{
  "nbformat": 4,
  "nbformat_minor": 0,
  "metadata": {
    "colab": {
      "provenance": [],
      "authorship_tag": "ABX9TyMuMunMCwXuj0+hknHKSwVB",
      "include_colab_link": true
    },
    "kernelspec": {
      "name": "python3",
      "display_name": "Python 3"
    },
    "language_info": {
      "name": "python"
    }
  },
  "cells": [
    {
      "cell_type": "markdown",
      "metadata": {
        "id": "view-in-github",
        "colab_type": "text"
      },
      "source": [
        "<a href=\"https://colab.research.google.com/github/AbdulMoiz-MMY/Agentic_AI_Learning/blob/main/12_jan.ipynb\" target=\"_parent\"><img src=\"https://colab.research.google.com/assets/colab-badge.svg\" alt=\"Open In Colab\"/></a>"
      ]
    },
    {
      "cell_type": "code",
      "execution_count": 59,
      "metadata": {
        "id": "8_ISD5yR6TG-"
      },
      "outputs": [],
      "source": [
        "!pip install -q -U langchain-google-genai"
      ]
    },
    {
      "cell_type": "code",
      "source": [],
      "metadata": {
        "id": "3fjofAg76hGh"
      },
      "execution_count": 59,
      "outputs": []
    },
    {
      "cell_type": "code",
      "source": [
        "from google.colab import userdata\n",
        "GOOGLE_API_KEY = userdata.get('GOOGLE_API_KEY')"
      ],
      "metadata": {
        "id": "LxmsHGwA6kh1"
      },
      "execution_count": 60,
      "outputs": []
    },
    {
      "cell_type": "code",
      "source": [
        "from langchain_google_genai import ChatGoogleGenerativeAI"
      ],
      "metadata": {
        "id": "aQw4KQ3g6uI8"
      },
      "execution_count": 61,
      "outputs": []
    },
    {
      "cell_type": "code",
      "source": [
        "llm = ChatGoogleGenerativeAI(\n",
        "    model=\"gemini-1.5-flash\",\n",
        "    api_key=GOOGLE_API_KEY,\n",
        "    )"
      ],
      "metadata": {
        "id": "Uxj7pWBR7C9e"
      },
      "execution_count": 62,
      "outputs": []
    },
    {
      "cell_type": "code",
      "source": [
        "llm.invoke(\"hi\")"
      ],
      "metadata": {
        "colab": {
          "base_uri": "https://localhost:8080/"
        },
        "id": "c1OMrAMb7hcb",
        "outputId": "0aedbd84-033c-4357-947b-01dcd0b074c3"
      },
      "execution_count": 63,
      "outputs": [
        {
          "output_type": "execute_result",
          "data": {
            "text/plain": [
              "AIMessage(content='Hi there! How can I help you today?', additional_kwargs={}, response_metadata={'prompt_feedback': {'block_reason': 0, 'safety_ratings': []}, 'finish_reason': 'STOP', 'safety_ratings': []}, id='run-14dbe01c-1780-42ef-b003-d5e91ef8f167-0', usage_metadata={'input_tokens': 2, 'output_tokens': 11, 'total_tokens': 13, 'input_token_details': {'cache_read': 0}})"
            ]
          },
          "metadata": {},
          "execution_count": 63
        }
      ]
    },
    {
      "cell_type": "code",
      "source": [
        "from  langchain_core.tools import tool\n",
        "@tool\n",
        "def annual_return (a:int) -> float:\n",
        "  \"\"\"Return annual return of a number\"\"\"\n",
        "  return (a + 15)/5 + 3\n",
        "@tool\n",
        "def add (a:int , b:int) -> int:\n",
        "  \"\"\"Return addition of two number return of a number\"\"\"\n",
        "  return  (a + b)\n",
        "\n",
        "@tool\n",
        "def multiply (a:int , b:int) -> int:\n",
        "  \"\"\"Return Multiplicatiom of two number return of a number\"\"\"\n",
        "  return (a * b)\n",
        "\n",
        "tools = [annual_return , add, multiply]"
      ],
      "metadata": {
        "id": "vlWEI9or7wUY"
      },
      "execution_count": 64,
      "outputs": []
    },
    {
      "cell_type": "code",
      "source": [
        "llm_with_tools = llm.bind_tools(tools)"
      ],
      "metadata": {
        "id": "oK4fmDES8nMS"
      },
      "execution_count": 65,
      "outputs": []
    },
    {
      "cell_type": "code",
      "source": [
        "llm_with_tools.invoke(\"Add 2 and 3 than multiply it with 5?\")"
      ],
      "metadata": {
        "colab": {
          "base_uri": "https://localhost:8080/"
        },
        "id": "nWY5EF_N-lkS",
        "outputId": "8052a203-91ac-4428-ee13-386a3f97e62c"
      },
      "execution_count": 66,
      "outputs": [
        {
          "output_type": "execute_result",
          "data": {
            "text/plain": [
              "AIMessage(content='', additional_kwargs={'function_call': {'name': 'multiply', 'arguments': '{\"a\": null, \"b\": 5.0}'}}, response_metadata={'prompt_feedback': {'block_reason': 0, 'safety_ratings': []}, 'finish_reason': 'STOP', 'safety_ratings': []}, id='run-6ab89df5-9e61-4b22-a410-1906785f75fa-0', tool_calls=[{'name': 'multiply', 'args': {'a': None, 'b': 5.0}, 'id': 'b8622182-1789-4d68-a461-043c7d5dd505', 'type': 'tool_call'}], usage_metadata={'input_tokens': 155, 'output_tokens': 3, 'total_tokens': 158, 'input_token_details': {'cache_read': 0}})"
            ]
          },
          "metadata": {},
          "execution_count": 66
        }
      ]
    },
    {
      "cell_type": "code",
      "source": [
        "from langchain_core.messages import  HumanMessage\n",
        "\n",
        "query = \"What is weather in Lahore today?\"\n",
        "messages = [HumanMessage (query)]\n",
        "display(messages)"
      ],
      "metadata": {
        "colab": {
          "base_uri": "https://localhost:8080/",
          "height": 34
        },
        "id": "ds5ot0BT-tHj",
        "outputId": "27f8a0ef-0119-49ca-828f-fe1a000d9d05"
      },
      "execution_count": 67,
      "outputs": [
        {
          "output_type": "display_data",
          "data": {
            "text/plain": [
              "[HumanMessage(content='What is weather in Lahore today?', additional_kwargs={}, response_metadata={})]"
            ]
          },
          "metadata": {}
        }
      ]
    },
    {
      "cell_type": "code",
      "source": [
        "ai_msg = llm_with_tools.invoke(messages)\n",
        "messages.append(ai_msg)\n",
        "display(ai_msg)"
      ],
      "metadata": {
        "colab": {
          "base_uri": "https://localhost:8080/",
          "height": 69
        },
        "id": "Qf6vyhmzAUZa",
        "outputId": "b6c1bd1b-81e7-4531-e450-2a7edb555768"
      },
      "execution_count": 68,
      "outputs": [
        {
          "output_type": "display_data",
          "data": {
            "text/plain": [
              "AIMessage(content='I am sorry, I cannot answer this question. I do not have access to real-time information, including weather data.', additional_kwargs={}, response_metadata={'prompt_feedback': {'block_reason': 0, 'safety_ratings': []}, 'finish_reason': 'STOP', 'safety_ratings': []}, id='run-4108060d-62a6-4b55-b1cd-93c8390014f5-0', usage_metadata={'input_tokens': 149, 'output_tokens': 25, 'total_tokens': 174, 'input_token_details': {'cache_read': 0}})"
            ]
          },
          "metadata": {}
        }
      ]
    },
    {
      "cell_type": "code",
      "source": [
        "ai_msg.tool_calls"
      ],
      "metadata": {
        "colab": {
          "base_uri": "https://localhost:8080/"
        },
        "id": "gmvdgscFAxkC",
        "outputId": "ace4d368-65a3-496e-8d81-f3e2d30e6f71"
      },
      "execution_count": 69,
      "outputs": [
        {
          "output_type": "execute_result",
          "data": {
            "text/plain": [
              "[]"
            ]
          },
          "metadata": {},
          "execution_count": 69
        }
      ]
    },
    {
      "cell_type": "code",
      "source": [
        "for tool_call in ai_msg.tool_calls:\n",
        "  selected_tool = {\n",
        "      \"add\": add,\n",
        "      \"annual_return\": annual_return,\n",
        "      \"multiply\": multiply,\n",
        "  }[tool_call[\"name\"].lower()]\n",
        "  tool_msg = selected_tool.invoke(tool_call)\n",
        "  display(tool_msg)\n",
        "  messages.append(tool_msg)\n"
      ],
      "metadata": {
        "id": "-nw64ZO-BIR9"
      },
      "execution_count": 70,
      "outputs": []
    },
    {
      "cell_type": "code",
      "source": [
        "messages"
      ],
      "metadata": {
        "colab": {
          "base_uri": "https://localhost:8080/"
        },
        "id": "dqeWaygCCP-5",
        "outputId": "fbf4731c-480d-4c9f-d6b2-93a755d4b0b0"
      },
      "execution_count": 71,
      "outputs": [
        {
          "output_type": "execute_result",
          "data": {
            "text/plain": [
              "[HumanMessage(content='What is weather in Lahore today?', additional_kwargs={}, response_metadata={}),\n",
              " AIMessage(content='I am sorry, I cannot answer this question. I do not have access to real-time information, including weather data.', additional_kwargs={}, response_metadata={'prompt_feedback': {'block_reason': 0, 'safety_ratings': []}, 'finish_reason': 'STOP', 'safety_ratings': []}, id='run-4108060d-62a6-4b55-b1cd-93c8390014f5-0', usage_metadata={'input_tokens': 149, 'output_tokens': 25, 'total_tokens': 174, 'input_token_details': {'cache_read': 0}})]"
            ]
          },
          "metadata": {},
          "execution_count": 71
        }
      ]
    },
    {
      "cell_type": "code",
      "source": [
        "llm_with_tools.invoke(messages)"
      ],
      "metadata": {
        "colab": {
          "base_uri": "https://localhost:8080/"
        },
        "id": "0-lH2jpwCqkh",
        "outputId": "eb9facaf-fb50-4d71-d998-92be7e9a6207"
      },
      "execution_count": 72,
      "outputs": [
        {
          "output_type": "execute_result",
          "data": {
            "text/plain": [
              "AIMessage(content='', additional_kwargs={}, response_metadata={'prompt_feedback': {'block_reason': 0, 'safety_ratings': []}, 'finish_reason': 'STOP', 'safety_ratings': []}, id='run-6731ff03-c534-470c-9df8-4ef533862474-0', usage_metadata={'input_tokens': 175, 'output_tokens': 0, 'total_tokens': 175, 'input_token_details': {'cache_read': 0}})"
            ]
          },
          "metadata": {},
          "execution_count": 72
        }
      ]
    },
    {
      "cell_type": "code",
      "source": [],
      "metadata": {
        "id": "K-zF_iVADY6p"
      },
      "execution_count": 72,
      "outputs": []
    }
  ]
}