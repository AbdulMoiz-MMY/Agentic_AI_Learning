{
  "nbformat": 4,
  "nbformat_minor": 0,
  "metadata": {
    "colab": {
      "provenance": [],
      "authorship_tag": "ABX9TyMJO6NHdscCS/28CnBsJsGy",
      "include_colab_link": true
    },
    "kernelspec": {
      "name": "python3",
      "display_name": "Python 3"
    },
    "language_info": {
      "name": "python"
    }
  },
  "cells": [
    {
      "cell_type": "markdown",
      "metadata": {
        "id": "view-in-github",
        "colab_type": "text"
      },
      "source": [
        "<a href=\"https://colab.research.google.com/github/AbdulMoiz-MMY/Agentic_AI_Learning/blob/main/Assignment_4.ipynb\" target=\"_parent\"><img src=\"https://colab.research.google.com/assets/colab-badge.svg\" alt=\"Open In Colab\"/></a>"
      ]
    },
    {
      "cell_type": "code",
      "execution_count": 11,
      "metadata": {
        "id": "l1hcz7q8fPmA"
      },
      "outputs": [],
      "source": [
        "!pip install --upgrade --quiet google-genai"
      ]
    },
    {
      "cell_type": "code",
      "source": [
        "from google.colab import userdata\n",
        "\n",
        "GEMINI_API_KEY : str = userdata.get('GOOGLE_API_KEY')\n",
        "\n",
        "if GEMINI_API_KEY:\n",
        "  print(\"GEMINI_API_KEY FOUND\")\n",
        "else:\n",
        "  print(\"GEMINI_API_KEY NOT FOUND\")"
      ],
      "metadata": {
        "colab": {
          "base_uri": "https://localhost:8080/"
        },
        "id": "Fw8PhsUSgjxo",
        "outputId": "bb4e44e1-c5a7-44f7-ebe0-224f99290650"
      },
      "execution_count": 12,
      "outputs": [
        {
          "output_type": "stream",
          "name": "stdout",
          "text": [
            "GEMINI_API_KEY FOUND\n"
          ]
        }
      ]
    },
    {
      "cell_type": "code",
      "source": [
        "from google import genai\n",
        "from google.genai import Client\n",
        "\n",
        "client: Client = genai.Client(\n",
        "    api_key=GEMINI_API_KEY,\n",
        ")\n",
        "\n",
        "model: str = \"gemini-2.0-flash-exp\""
      ],
      "metadata": {
        "id": "vJCFn-9xgneV"
      },
      "execution_count": 13,
      "outputs": []
    },
    {
      "cell_type": "code",
      "source": [
        "import time\n",
        "\n",
        "def upload_video(video_file_name):\n",
        "  video_file = client.files.upload(path=video_file_name)\n",
        "  while video_file.state == \"PROCESSING\":\n",
        "      print('Waiting for video to be processed.')\n",
        "      time.sleep(10)\n",
        "      video_file = client.files.get(name=video_file.name or \"\")\n",
        "\n",
        "  if video_file.state == \"FAILED\":\n",
        "    raise ValueError(video_file.state)\n",
        "  print(f'Video processing complete: ' + (video_file.uri or \"\"))\n",
        "\n",
        "  return video_file\n",
        "\n"
      ],
      "metadata": {
        "id": "ufbE45xKg310"
      },
      "execution_count": 14,
      "outputs": []
    },
    {
      "cell_type": "code",
      "source": [
        "magician_video = upload_video('magician.mp4')"
      ],
      "metadata": {
        "colab": {
          "base_uri": "https://localhost:8080/"
        },
        "id": "H92Ti19ChFAk",
        "outputId": "15aded4f-587b-454b-9c56-e9867c2ca847"
      },
      "execution_count": 15,
      "outputs": [
        {
          "output_type": "stream",
          "name": "stdout",
          "text": [
            "Waiting for video to be processed.\n",
            "Video processing complete: https://generativelanguage.googleapis.com/v1beta/files/bjsv5wakg8en\n"
          ]
        }
      ]
    },
    {
      "cell_type": "code",
      "source": [
        "from google.genai.types import Content, Part\n",
        "prompt = \"\"\"For each scene in this video,\n",
        "            generate captions that describe the scene along with any spoken text placed in quotation marks.\n",
        "            Place each caption into an object with the timecode of the caption in the video.\n",
        "         \"\"\"\n",
        "\n",
        "video = magician_video\n",
        "\n",
        "response = client.models.generate_content(\n",
        "    model=model,\n",
        "    contents=[\n",
        "        Content(\n",
        "            role=\"user\",\n",
        "            parts=[\n",
        "                Part.from_uri(\n",
        "                    file_uri=video.uri or \"\",\n",
        "                    mime_type=video.mime_type or \"\"),\n",
        "                ]),\n",
        "        prompt,\n",
        "    ]\n",
        ")\n",
        "\n",
        ""
      ],
      "metadata": {
        "id": "ynImJ60LhMsu"
      },
      "execution_count": 16,
      "outputs": []
    },
    {
      "cell_type": "code",
      "source": [
        "from IPython.display import Markdown\n",
        "display(Markdown(response.text))\n",
        ""
      ],
      "metadata": {
        "colab": {
          "base_uri": "https://localhost:8080/",
          "height": 419
        },
        "id": "ZyU_2Owhutm-",
        "outputId": "5e500bdb-2d97-4574-fe08-f6097a194324"
      },
      "execution_count": 17,
      "outputs": [
        {
          "output_type": "display_data",
          "data": {
            "text/plain": [
              "<IPython.core.display.Markdown object>"
            ],
            "text/markdown": "```json\n[\n  {\n    \"timecode\": \"00:00\",\n    \"caption\": \"A black and white car drives on a grey track under a clear blue sky. The car has a number '9' on its side and a spoiler on the back. A hillside is visible in the background.\"\n  },\n  {\n    \"timecode\": \"00:01\",\n   \"caption\": \"A black and white car continues driving on a grey track under a clear blue sky. The car has a number '9' on its side and a spoiler on the back. A hillside is visible in the background.\"\n  },\n  {\n    \"timecode\": \"00:02\",\n    \"caption\": \"A black and white car keeps driving on a grey track under a clear blue sky. The car has a number '9' on its side and a spoiler on the back. A hillside is visible in the background.\"\n  },\n   {\n    \"timecode\": \"00:03\",\n   \"caption\": \"A black and white car continues driving on a grey track under a clear blue sky. The car has a number '9' on its side and a spoiler on the back. A hillside is visible in the background.\"\n  },\n  {\n    \"timecode\": \"00:04\",\n   \"caption\": \"A black and white car keeps driving on a grey track under a clear blue sky. The car has a number '9' on its side and a spoiler on the back. A hillside is visible in the background.\"\n  }\n]\n```"
          },
          "metadata": {}
        }
      ]
    },
    {
      "cell_type": "code",
      "source": [],
      "metadata": {
        "id": "iEmWKIFRuuZU"
      },
      "execution_count": null,
      "outputs": []
    }
  ]
}