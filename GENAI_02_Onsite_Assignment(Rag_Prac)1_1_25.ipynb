{
  "nbformat": 4,
  "nbformat_minor": 0,
  "metadata": {
    "colab": {
      "provenance": [],
      "include_colab_link": true
    },
    "kernelspec": {
      "name": "python3",
      "display_name": "Python 3"
    },
    "language_info": {
      "name": "python"
    }
  },
  "cells": [
    {
      "cell_type": "markdown",
      "metadata": {
        "id": "view-in-github",
        "colab_type": "text"
      },
      "source": [
        "<a href=\"https://colab.research.google.com/github/AbdulMoiz-MMY/Agentic_AI_Learning/blob/main/GENAI_02_Onsite_Assignment(Rag_Prac)1_1_25.ipynb\" target=\"_parent\"><img src=\"https://colab.research.google.com/assets/colab-badge.svg\" alt=\"Open In Colab\"/></a>"
      ]
    },
    {
      "cell_type": "code",
      "execution_count": 1,
      "metadata": {
        "id": "se2VP2W9i3xY",
        "outputId": "b03b0eea-6616-4e6f-ec3e-57c8063c182e",
        "colab": {
          "base_uri": "https://localhost:8080/"
        }
      },
      "outputs": [
        {
          "output_type": "stream",
          "name": "stdout",
          "text": [
            "\u001b[?25l   \u001b[90m━━━━━━━━━━━━━━━━━━━━━━━━━━━━━━━━━━━━━━━━\u001b[0m \u001b[32m0.0/41.5 kB\u001b[0m \u001b[31m?\u001b[0m eta \u001b[36m-:--:--\u001b[0m\r\u001b[2K   \u001b[90m━━━━━━━━━━━━━━━━━━━━━━━━━━━━━━━━━━━━━━━━\u001b[0m \u001b[32m41.5/41.5 kB\u001b[0m \u001b[31m2.3 MB/s\u001b[0m eta \u001b[36m0:00:00\u001b[0m\n",
            "\u001b[2K   \u001b[90m━━━━━━━━━━━━━━━━━━━━━━━━━━━━━━━━━━━━━━━━\u001b[0m \u001b[32m1.2/1.2 MB\u001b[0m \u001b[31m38.5 MB/s\u001b[0m eta \u001b[36m0:00:00\u001b[0m\n",
            "\u001b[2K   \u001b[90m━━━━━━━━━━━━━━━━━━━━━━━━━━━━━━━━━━━━━━━━\u001b[0m \u001b[32m411.6/411.6 kB\u001b[0m \u001b[31m15.1 MB/s\u001b[0m eta \u001b[36m0:00:00\u001b[0m\n",
            "\u001b[2K   \u001b[90m━━━━━━━━━━━━━━━━━━━━━━━━━━━━━━━━━━━━━━━━\u001b[0m \u001b[32m244.8/244.8 kB\u001b[0m \u001b[31m8.7 MB/s\u001b[0m eta \u001b[36m0:00:00\u001b[0m\n",
            "\u001b[2K   \u001b[90m━━━━━━━━━━━━━━━━━━━━━━━━━━━━━━━━━━━━━━━━\u001b[0m \u001b[32m85.4/85.4 kB\u001b[0m \u001b[31m4.2 MB/s\u001b[0m eta \u001b[36m0:00:00\u001b[0m\n",
            "\u001b[?25h"
          ]
        }
      ],
      "source": [
        "!pip install -qU langchain-pinecone langchain-google-genai"
      ]
    },
    {
      "cell_type": "code",
      "source": [
        "from google.colab import userdata\n",
        "\n",
        "from pinecone import Pinecone,ServerlessSpec\n",
        "\n",
        "pinecone_api_key = userdata.get(\"PINECONE_API_KEY\")\n",
        "\n",
        "if not pinecone_api_key:\n",
        "    raise ValueError(\"PINECONE_API_KEY not set\")\n",
        "\n",
        "pc = Pinecone(api_key = pinecone_api_key)"
      ],
      "metadata": {
        "id": "lHDGIKv2k-AR"
      },
      "execution_count": 2,
      "outputs": []
    },
    {
      "cell_type": "code",
      "source": [
        "index_name = \"onclass-rag-project\"\n",
        "\n",
        "existing_indexes = [index_info[\"name\"] for index_info in pc.list_indexes()]\n",
        "\n",
        "if index_name not in existing_indexes:\n",
        "    pc.create_index(\n",
        "        name=index_name,\n",
        "        dimension= 768,\n",
        "        metric=\"cosine\",\n",
        "        spec=ServerlessSpec(cloud=\"aws\", region=\"us-east-1\"),\n",
        "    )\n",
        "\n",
        "index = pc.Index(index_name)"
      ],
      "metadata": {
        "id": "aKQFKJ8bl3b8"
      },
      "execution_count": 3,
      "outputs": []
    },
    {
      "cell_type": "code",
      "source": [
        "from langchain_google_genai import GoogleGenerativeAIEmbeddings\n",
        "import os\n",
        "\n",
        "os.environ['GOOGLE_API_KEY'] = userdata.get(\"GOOGLE_API_KEY\")\n",
        "embeddings = GoogleGenerativeAIEmbeddings(model=\"models/embedding-001\")"
      ],
      "metadata": {
        "id": "FN5S9EN0mcSp"
      },
      "execution_count": 4,
      "outputs": []
    },
    {
      "cell_type": "code",
      "source": [
        "vector = embeddings.embed_query(\"We are building a rag query\")"
      ],
      "metadata": {
        "id": "E_QFr8FKnS13"
      },
      "execution_count": 5,
      "outputs": []
    },
    {
      "cell_type": "code",
      "source": [
        "vector[:5]"
      ],
      "metadata": {
        "colab": {
          "base_uri": "https://localhost:8080/"
        },
        "id": "3nT6fSAnnjTD",
        "outputId": "5f1e03f8-5ef9-442a-da82-fa7d4f9662fd"
      },
      "execution_count": 6,
      "outputs": [
        {
          "output_type": "execute_result",
          "data": {
            "text/plain": [
              "[0.03296078369021416,\n",
              " -0.05385661870241165,\n",
              " -0.0600518062710762,\n",
              " -0.032095782458782196,\n",
              " -0.009051025845110416]"
            ]
          },
          "metadata": {},
          "execution_count": 6
        }
      ]
    },
    {
      "cell_type": "code",
      "source": [
        "from langchain_pinecone import PineconeVectorStore\n",
        "\n",
        "vector_store = PineconeVectorStore(index,embeddings)"
      ],
      "metadata": {
        "id": "7cQf0oPwnxME"
      },
      "execution_count": 7,
      "outputs": []
    },
    {
      "cell_type": "code",
      "source": [
        "!pip install -q langchain_community"
      ],
      "metadata": {
        "colab": {
          "base_uri": "https://localhost:8080/"
        },
        "id": "rgXkYGS6oiGT",
        "outputId": "b0dd26d6-2755-4fea-8b1b-e8bbce2c7aea"
      },
      "execution_count": 8,
      "outputs": [
        {
          "output_type": "stream",
          "name": "stdout",
          "text": [
            "\u001b[?25l   \u001b[90m━━━━━━━━━━━━━━━━━━━━━━━━━━━━━━━━━━━━━━━━\u001b[0m \u001b[32m0.0/2.5 MB\u001b[0m \u001b[31m?\u001b[0m eta \u001b[36m-:--:--\u001b[0m\r\u001b[2K   \u001b[91m━━━━━━━━━━━━━━━━━━━━━━━━━━━━━━━━━━━━━━━\u001b[0m\u001b[91m╸\u001b[0m \u001b[32m2.5/2.5 MB\u001b[0m \u001b[31m97.7 MB/s\u001b[0m eta \u001b[36m0:00:01\u001b[0m\r\u001b[2K   \u001b[90m━━━━━━━━━━━━━━━━━━━━━━━━━━━━━━━━━━━━━━━━\u001b[0m \u001b[32m2.5/2.5 MB\u001b[0m \u001b[31m46.8 MB/s\u001b[0m eta \u001b[36m0:00:00\u001b[0m\n",
            "\u001b[?25h\u001b[?25l   \u001b[90m━━━━━━━━━━━━━━━━━━━━━━━━━━━━━━━━━━━━━━━━\u001b[0m \u001b[32m0.0/1.0 MB\u001b[0m \u001b[31m?\u001b[0m eta \u001b[36m-:--:--\u001b[0m\r\u001b[2K   \u001b[90m━━━━━━━━━━━━━━━━━━━━━━━━━━━━━━━━━━━━━━━━\u001b[0m \u001b[32m1.0/1.0 MB\u001b[0m \u001b[31m38.6 MB/s\u001b[0m eta \u001b[36m0:00:00\u001b[0m\n",
            "\u001b[?25h\u001b[?25l   \u001b[90m━━━━━━━━━━━━━━━━━━━━━━━━━━━━━━━━━━━━━━━━\u001b[0m \u001b[32m0.0/49.3 kB\u001b[0m \u001b[31m?\u001b[0m eta \u001b[36m-:--:--\u001b[0m\r\u001b[2K   \u001b[90m━━━━━━━━━━━━━━━━━━━━━━━━━━━━━━━━━━━━━━━━\u001b[0m \u001b[32m49.3/49.3 kB\u001b[0m \u001b[31m4.2 MB/s\u001b[0m eta \u001b[36m0:00:00\u001b[0m\n",
            "\u001b[?25h"
          ]
        }
      ]
    },
    {
      "cell_type": "code",
      "source": [
        "!pip install PyPDF"
      ],
      "metadata": {
        "colab": {
          "base_uri": "https://localhost:8080/"
        },
        "collapsed": true,
        "id": "gTnEYv-Ld9Qe",
        "outputId": "dba0b181-c28f-438e-cac9-535974141ca4"
      },
      "execution_count": 9,
      "outputs": [
        {
          "output_type": "stream",
          "name": "stdout",
          "text": [
            "Collecting PyPDF\n",
            "  Downloading pypdf-5.1.0-py3-none-any.whl.metadata (7.2 kB)\n",
            "Requirement already satisfied: typing_extensions>=4.0 in /usr/local/lib/python3.10/dist-packages (from PyPDF) (4.12.2)\n",
            "Downloading pypdf-5.1.0-py3-none-any.whl (297 kB)\n",
            "\u001b[?25l   \u001b[90m━━━━━━━━━━━━━━━━━━━━━━━━━━━━━━━━━━━━━━━━\u001b[0m \u001b[32m0.0/298.0 kB\u001b[0m \u001b[31m?\u001b[0m eta \u001b[36m-:--:--\u001b[0m\r\u001b[2K   \u001b[90m━━━━━━━━━━━━━━━━━━━━━━━━━━━━━━━━━━━━━━━━\u001b[0m \u001b[32m298.0/298.0 kB\u001b[0m \u001b[31m17.7 MB/s\u001b[0m eta \u001b[36m0:00:00\u001b[0m\n",
            "\u001b[?25hInstalling collected packages: PyPDF\n",
            "Successfully installed PyPDF-5.1.0\n"
          ]
        }
      ]
    },
    {
      "cell_type": "code",
      "source": [
        "from langchain_community.document_loaders import PyPDFLoader\n",
        "\n",
        "loader = PyPDFLoader(\"/content/personal_finance_advisor.pdf\")\n",
        "data = loader.load()"
      ],
      "metadata": {
        "id": "QZHAmdOodtAT"
      },
      "execution_count": 11,
      "outputs": []
    },
    {
      "cell_type": "code",
      "source": [
        "len(data)"
      ],
      "metadata": {
        "colab": {
          "base_uri": "https://localhost:8080/"
        },
        "id": "a3NcaXhFeN05",
        "outputId": "3ad235d6-46bc-42c1-d928-40aa7e9d70c0"
      },
      "execution_count": 12,
      "outputs": [
        {
          "output_type": "execute_result",
          "data": {
            "text/plain": [
              "22"
            ]
          },
          "metadata": {},
          "execution_count": 12
        }
      ]
    },
    {
      "cell_type": "code",
      "source": [
        "from langchain.text_splitter import RecursiveCharacterTextSplitter\n",
        "\n",
        "text_splitter = RecursiveCharacterTextSplitter(chunk_size=1000, chunk_overlap=200)\n",
        "\n",
        "docs = text_splitter.split_documents(data)\n",
        "\n",
        "len(docs)"
      ],
      "metadata": {
        "colab": {
          "base_uri": "https://localhost:8080/"
        },
        "id": "3rFUz_xPeIAL",
        "outputId": "35977ea5-e9ca-4968-f360-752fd0a40b80"
      },
      "execution_count": 13,
      "outputs": [
        {
          "output_type": "execute_result",
          "data": {
            "text/plain": [
              "66"
            ]
          },
          "metadata": {},
          "execution_count": 13
        }
      ]
    },
    {
      "cell_type": "code",
      "source": [
        "docs[3]"
      ],
      "metadata": {
        "colab": {
          "base_uri": "https://localhost:8080/"
        },
        "id": "P1vDAGdVeU6v",
        "outputId": "130a6c09-82c2-4d1e-bae0-e1eee25f737a"
      },
      "execution_count": 14,
      "outputs": [
        {
          "output_type": "execute_result",
          "data": {
            "text/plain": [
              "Document(metadata={'source': '/content/personal_finance_advisor.pdf', 'page': 1}, page_content='How can I save money on travel? Create a budget\\nHow can I save money on groceries? Create a budget\\nHow can I save money on rent? Create a budget\\nHow can I save money on utilities? Create a budget\\nHow can I save money on entertainment? Create a budget\\nHow can I save money on travel? Create a budget\\nHow can I save money on groceries? Create a budget\\nHow can I save money on rent? Create a budget\\nHow can I save money on utilities? Create a budget\\nHow can I save money on entertainment? Create a budget\\nHow can I save money on travel? Create a budget\\nHow can I save money on groceries? Create a budget\\nHow can I save money on rent? Create a budget\\nHow can I save money on utilities? Create a budget\\nHow can I save money on entertainment? Create a budget\\nHow can I save money on travel? Create a budget\\nHow can I save money on groceries? Create a budget\\nHow can I save money on rent? Create a budget\\nHow can I save money on utilities? Create a budget')"
            ]
          },
          "metadata": {},
          "execution_count": 14
        }
      ]
    },
    {
      "cell_type": "code",
      "source": [
        "from uuid import uuid4\n",
        "\n",
        "uuids = [str(uuid4()) for _ in range(len(docs))]\n",
        "\n",
        "vector_store.add_documents(documents=docs,ids=uuids)"
      ],
      "metadata": {
        "colab": {
          "base_uri": "https://localhost:8080/"
        },
        "id": "MVy5UKApprkN",
        "outputId": "9b1d00ea-5829-40b6-a1cd-f907f26c16b1"
      },
      "execution_count": 15,
      "outputs": [
        {
          "output_type": "execute_result",
          "data": {
            "text/plain": [
              "['ddd9f5e1-6e3b-44db-91c8-73c242fd8296',\n",
              " '5885576a-72a6-4520-8941-7ad9167e83a3',\n",
              " 'd4d79a6b-ae08-44e8-ae70-a0302fb8f7e0',\n",
              " '0a20adb3-4b33-4546-b766-40343bdf598e',\n",
              " 'ca68cf2c-297d-4687-8ae8-2fedabecfead',\n",
              " '58184898-58e1-4fb3-9431-e51a0593335c',\n",
              " 'c1d4a796-e776-404a-bf2f-99db621818ea',\n",
              " '87252ba7-b257-422c-9e97-646a4caeaac6',\n",
              " 'bfca8bc4-fac5-4e66-8e48-22bdc575163f',\n",
              " '4fe73b0a-9e87-484e-9c31-513de220e2fd',\n",
              " '590af3f8-2f07-4c18-b675-21b8746f1848',\n",
              " 'c919d3a8-aa9f-49b6-8bee-f761d63ed125',\n",
              " '9d94531c-4344-4d55-910c-07188af446ec',\n",
              " '7e5d8611-9fa6-4577-abb6-aa425ec7319c',\n",
              " '81c2145e-2bc3-4e75-9cc7-206067c92928',\n",
              " '4c0e0083-f8c6-46fc-be03-cc0f82590b09',\n",
              " '529d97f6-00d7-4d99-822a-0f70cb344ccd',\n",
              " '12051719-8202-4868-aa85-a836b5edc5f9',\n",
              " '9e133ca6-e535-4b80-a290-015b752163f4',\n",
              " '9dfc26de-0efb-4733-bd21-779dec0d3f20',\n",
              " '6bcb891f-6499-449a-826d-06de7f3e2ab8',\n",
              " '60f1d9c0-cd22-49ce-b3d1-79f5fc68d3ec',\n",
              " 'c100de9f-d7d3-4388-923e-3e319dff03cb',\n",
              " '6f6ffa9f-8e84-4b3f-a64a-bff441fd88c5',\n",
              " 'c9109b22-83b3-4da1-b876-72fac0b11586',\n",
              " '2f0518e1-ed73-422a-9f3d-f3f390eaf9ad',\n",
              " '12a058c7-7e02-4cb5-a524-8b952532620d',\n",
              " '1cced048-0c62-4285-a5f3-18c30bcded3c',\n",
              " '713654c8-cb5f-41e4-8d26-58e4dd8b1a1d',\n",
              " '3269c352-4f34-4729-b6b8-b78dab29c320',\n",
              " '449ac61f-41b0-412f-9164-3cc5a1245ee9',\n",
              " 'c281941d-5c71-4941-92c2-4991b64352ef',\n",
              " '1aef3e1b-ee8c-4bb1-bc0b-e3cee857e034',\n",
              " 'a557acac-bd05-42b3-9dca-6dc614cf8d88',\n",
              " 'a245bd6a-d1c2-42b2-a26a-e9610b640849',\n",
              " '540c2c7e-684d-4cc8-bf2c-083b1bfdef94',\n",
              " '91db07a9-5939-46d6-8d7e-fed5d59a6cf0',\n",
              " '6776e50b-5786-4756-8ebc-c987f085b82d',\n",
              " 'ee1ff359-872c-435a-9cf6-b20374fe2633',\n",
              " '25bb7c89-4a0b-4111-b8b5-b5bbe2810bec',\n",
              " '2d73fc53-f169-4a45-9ddc-39630ef1caff',\n",
              " '8641b6fd-a62a-4be9-a6e2-60e2836a46ea',\n",
              " '05e52f5d-1112-4770-8d66-347bf79f3810',\n",
              " 'f7ecabf4-4edf-4468-8cb3-393f9de14c50',\n",
              " '5063710a-772a-430e-879b-425bf4f63068',\n",
              " '51311e99-4fd4-4536-9060-2af3cfc90a64',\n",
              " 'a24bbfb2-f65c-4c36-b033-8ead6c3ce372',\n",
              " 'bec9abd8-fd0c-4f7b-9295-11544da05176',\n",
              " 'f9eca489-45c5-45fa-b258-81446d70f192',\n",
              " 'a07753b9-70d7-49da-b4b3-f5a296e3fa6b',\n",
              " 'b634fef7-b28e-47b6-ab8b-8e593ee886c1',\n",
              " 'de07204d-9784-4516-91a6-92e44d369a6d',\n",
              " '4175acc9-1782-4631-ac2c-26bd6df062ab',\n",
              " '161b1d3f-f21e-4796-92d5-1ba133a537b8',\n",
              " '067f5b08-9ab3-4c4a-953b-e0de961a9a8a',\n",
              " '575542bc-9a7c-4ddf-80d3-ac94ca28c12b',\n",
              " '4f04d37c-93d4-4076-a304-642adca5b6c0',\n",
              " '166d6e41-8a3e-47b6-b982-03e0ea9eb502',\n",
              " 'cf0b87b0-06a4-45c5-a943-b6a95b631696',\n",
              " '2eea1187-bdeb-4fd8-8733-cc0ab5771b5b',\n",
              " '166fc7d1-fa62-4f02-af30-b30bdbbf33cc',\n",
              " 'c14a1999-7d79-4bb6-a543-f31d246a2af5',\n",
              " 'eb784cfd-6bac-42c1-a62d-e63fe7dd24bc',\n",
              " 'e10eab96-36bc-4afd-ab28-d35764bc7ebc',\n",
              " 'eaed18fa-4909-4606-ba45-607e16ccdde5',\n",
              " 'ac144686-f1a8-4da3-ad16-0f90b730a2db']"
            ]
          },
          "metadata": {},
          "execution_count": 15
        }
      ]
    },
    {
      "cell_type": "code",
      "source": [
        "retriever = vector_store.as_retriever(search_type=\"similarity\", search_kwargs={\"k\": 10})\n",
        "\n",
        "retrieved_docs = retriever.invoke(\"Return Policy for Product 452 and 950\")"
      ],
      "metadata": {
        "id": "FX_U2sS1fCE7"
      },
      "execution_count": 16,
      "outputs": []
    },
    {
      "cell_type": "code",
      "source": [
        "retrieved_docs"
      ],
      "metadata": {
        "colab": {
          "base_uri": "https://localhost:8080/"
        },
        "id": "dSH2Jc-Rgatp",
        "outputId": "b3423900-4299-401e-b9a7-8b52c02a4458"
      },
      "execution_count": 17,
      "outputs": [
        {
          "output_type": "execute_result",
          "data": {
            "text/plain": [
              "[]"
            ]
          },
          "metadata": {},
          "execution_count": 17
        }
      ]
    },
    {
      "cell_type": "code",
      "source": [
        "len(retrieved_docs)"
      ],
      "metadata": {
        "colab": {
          "base_uri": "https://localhost:8080/"
        },
        "id": "W8f3G3w6fY_S",
        "outputId": "8e08e031-12c8-4886-9e45-14ec77aa0e1f"
      },
      "execution_count": 18,
      "outputs": [
        {
          "output_type": "execute_result",
          "data": {
            "text/plain": [
              "0"
            ]
          },
          "metadata": {},
          "execution_count": 18
        }
      ]
    },
    {
      "cell_type": "markdown",
      "source": [],
      "metadata": {
        "id": "GvgVEK2YKl-P"
      }
    },
    {
      "cell_type": "markdown",
      "source": [],
      "metadata": {
        "id": "jtEGF-DAKmdP"
      }
    },
    {
      "cell_type": "code",
      "source": [
        "# print(retrieved_docs[5].page_content)\n",
        "if retrieved_docs:\n",
        "    print(retrieved_docs[4].page_content)\n",
        "else:\n",
        "    print(\"retrieved_docs is empty, cannot access element at index 5.\")"
      ],
      "metadata": {
        "colab": {
          "base_uri": "https://localhost:8080/"
        },
        "id": "C5b6-3MMfexq",
        "outputId": "2f7753c8-7e20-4e2a-dc1c-0afcbcb86491"
      },
      "execution_count": 34,
      "outputs": [
        {
          "output_type": "stream",
          "name": "stdout",
          "text": [
            "retrieved_docs is empty, cannot access element at index 5.\n"
          ]
        }
      ]
    },
    {
      "cell_type": "code",
      "source": [
        "results = vector_store.similarity_search(\n",
        "    \"Return Policy for Product 9,50\",\n",
        "    k=10\n",
        ")\n",
        "\n",
        "for res in results :\n",
        "  print(f\"* {res.page_content} [{res.metadata}]\")"
      ],
      "metadata": {
        "id": "OnLvxRt6qhZs"
      },
      "execution_count": 20,
      "outputs": []
    },
    {
      "cell_type": "code",
      "source": [
        "from langchain_google_genai import ChatGoogleGenerativeAI\n",
        "\n",
        "llm = ChatGoogleGenerativeAI(\n",
        "    model=\"gemini-1.5-flash\"\n",
        ")"
      ],
      "metadata": {
        "id": "9MWjxldAt4RR"
      },
      "execution_count": 21,
      "outputs": []
    },
    {
      "cell_type": "code",
      "source": [
        "from langchain.chains import create_retrieval_chain\n",
        "from langchain.chains.combine_documents import create_stuff_documents_chain\n",
        "from langchain_core.prompts import ChatPromptTemplate\n",
        "\n",
        "system_prompt = (\n",
        "    \"You are an assistant for question-answering tasks.\"\n",
        "    \"Use the followingpieces of retrieved context to answer the question\"\n",
        "    \"If you dont know the answer, say that you don't know. Use three sentences maximum and keep answers consise\"\n",
        "    \"\\n\\n\"\n",
        "    \"{context}\"\n",
        ")\n",
        "\n",
        "prompt = ChatPromptTemplate.from_messages(\n",
        "    [\n",
        "        (\"system\", system_prompt),\n",
        "        (\"human\", \"{input}\"),\n",
        "    ]\n",
        ")\n",
        "\n"
      ],
      "metadata": {
        "id": "uTZ-IScIfzs3"
      },
      "execution_count": 22,
      "outputs": []
    },
    {
      "cell_type": "code",
      "source": [
        "question_answer_chain = create_stuff_documents_chain(llm,prompt)\n",
        "rag_chain= create_retrieval_chain(retriever,question_answer_chain)"
      ],
      "metadata": {
        "id": "ksdwNk2pf2cP"
      },
      "execution_count": 23,
      "outputs": []
    },
    {
      "cell_type": "code",
      "source": [
        "from IPython.display import display,Markdown\n",
        "\n",
        "response = rag_chain.invoke({\"input\":\"Return Policy for product 625\"})\n",
        "print(\"Input:\", response['input'])\n",
        "print(f\"Context: {response['context'][:2]}\")\n",
        "print(\"Answer:\", response['answer'])"
      ],
      "metadata": {
        "colab": {
          "base_uri": "https://localhost:8080/"
        },
        "id": "H7xFpq6Yf3wg",
        "outputId": "70cc7ffe-3e61-43de-d467-3309ad97efa9"
      },
      "execution_count": 24,
      "outputs": [
        {
          "output_type": "stream",
          "name": "stdout",
          "text": [
            "Input: Return Policy for product 625\n",
            "Context: [Document(id='ddd9f5e1-6e3b-44db-91c8-73c242fd8296', metadata={'page': 0.0, 'source': '/content/personal_finance_advisor.pdf'}, page_content='Query Advice\\nHow can I save money on groceries? Create a budget\\nHow can I save money on rent? Create a budget\\nHow can I save money on utilities? Create a budget\\nHow can I save money on entertainment? Create a budget\\nHow can I save money on travel? Create a budget\\nHow can I save money on groceries? Create a budget\\nHow can I save money on rent? Create a budget\\nHow can I save money on utilities? Create a budget\\nHow can I save money on entertainment? Create a budget\\nHow can I save money on travel? Create a budget\\nHow can I save money on groceries? Create a budget\\nHow can I save money on rent? Create a budget\\nHow can I save money on utilities? Create a budget\\nHow can I save money on entertainment? Create a budget\\nHow can I save money on travel? Create a budget\\nHow can I save money on groceries? Create a budget\\nHow can I save money on rent? Create a budget\\nHow can I save money on utilities? Create a budget\\nHow can I save money on entertainment? Create a budget'), Document(id='ac144686-f1a8-4da3-ad16-0f90b730a2db', metadata={'page': 21.0, 'source': '/content/personal_finance_advisor.pdf'}, page_content='How can I save money on travel? Create a budget\\nHow can I save money on groceries? Create a budget\\nHow can I save money on rent? Create a budget\\nHow can I save money on utilities? Create a budget\\nHow can I save money on entertainment? Create a budget\\nHow can I save money on travel? Create a budget')]\n",
            "Answer: I do not have access to real-time information, including specific product details like return policies for product number 625.  To find the return policy, check the retailer's website or contact their customer service.\n"
          ]
        }
      ]
    },
    {
      "cell_type": "code",
      "source": [
        "response = rag_chain.invoke({\"input\":\"Return Policy for product 452 and 950\"})\n",
        "print(\"Input:\", response['input'])\n",
        "print(f\"Context: {response['context'][:2]}\")\n",
        "print(\"Answer:\", response['answer'])"
      ],
      "metadata": {
        "colab": {
          "base_uri": "https://localhost:8080/"
        },
        "id": "Ja5EZcAcgGu0",
        "outputId": "1afe4fc5-ddbd-48a1-cad1-3e9f882e6891"
      },
      "execution_count": 25,
      "outputs": [
        {
          "output_type": "stream",
          "name": "stdout",
          "text": [
            "Input: Return Policy for product 452 and 950\n",
            "Context: [Document(id='ddd9f5e1-6e3b-44db-91c8-73c242fd8296', metadata={'page': 0.0, 'source': '/content/personal_finance_advisor.pdf'}, page_content='Query Advice\\nHow can I save money on groceries? Create a budget\\nHow can I save money on rent? Create a budget\\nHow can I save money on utilities? Create a budget\\nHow can I save money on entertainment? Create a budget\\nHow can I save money on travel? Create a budget\\nHow can I save money on groceries? Create a budget\\nHow can I save money on rent? Create a budget\\nHow can I save money on utilities? Create a budget\\nHow can I save money on entertainment? Create a budget\\nHow can I save money on travel? Create a budget\\nHow can I save money on groceries? Create a budget\\nHow can I save money on rent? Create a budget\\nHow can I save money on utilities? Create a budget\\nHow can I save money on entertainment? Create a budget\\nHow can I save money on travel? Create a budget\\nHow can I save money on groceries? Create a budget\\nHow can I save money on rent? Create a budget\\nHow can I save money on utilities? Create a budget\\nHow can I save money on entertainment? Create a budget'), Document(id='60f1d9c0-cd22-49ce-b3d1-79f5fc68d3ec', metadata={'page': 7.0, 'source': '/content/personal_finance_advisor.pdf'}, page_content='How can I save money on groceries? Create a budget\\nHow can I save money on rent? Create a budget\\nHow can I save money on utilities? Create a budget\\nHow can I save money on entertainment? Create a budget\\nHow can I save money on travel? Create a budget\\nHow can I save money on groceries? Create a budget\\nHow can I save money on rent? Create a budget\\nHow can I save money on utilities? Create a budget\\nHow can I save money on entertainment? Create a budget\\nHow can I save money on travel? Create a budget\\nHow can I save money on groceries? Create a budget\\nHow can I save money on rent? Create a budget\\nHow can I save money on utilities? Create a budget\\nHow can I save money on entertainment? Create a budget\\nHow can I save money on travel? Create a budget\\nHow can I save money on groceries? Create a budget\\nHow can I save money on rent? Create a budget\\nHow can I save money on utilities? Create a budget\\nHow can I save money on entertainment? Create a budget')]\n",
            "Answer: I do not have access to real-time information, including specific return policies for products with those numbers.  To find the return policy, check the retailer's website or contact their customer service.\n"
          ]
        }
      ]
    },
    {
      "cell_type": "code",
      "source": [
        "def answer_to_query(query):\n",
        "    vector_results = vector_store.similarity_search(query, k=10)\n",
        "    response = llm.invoke(\n",
        "        f\"Answer this query: {query}\\nHere are some references: {vector_results}\"\n",
        "    )\n",
        "\n",
        "    if hasattr(response, 'content'):\n",
        "        ans = response.content\n",
        "    else:\n",
        "        ans = response\n",
        "\n",
        "    return ans, query, vector_results"
      ],
      "metadata": {
        "id": "f8zTd2NAuNkz"
      },
      "execution_count": 26,
      "outputs": []
    },
    {
      "cell_type": "code",
      "source": [
        "ans, query, content = answer_to_query(\"For Product 652. What is the return policy?\")\n",
        "\n",
        "print(f\"Input : {query}\")\n",
        "print(f\"Content : {content}\")\n",
        "print(f\"Answer : {ans}\")"
      ],
      "metadata": {
        "colab": {
          "base_uri": "https://localhost:8080/"
        },
        "id": "JijM0bPFupmu",
        "outputId": "5879e76b-179e-435c-937a-e8d8734d0064"
      },
      "execution_count": 27,
      "outputs": [
        {
          "output_type": "stream",
          "name": "stdout",
          "text": [
            "Input : For Product 652. What is the return policy?\n",
            "Content : [Document(id='ddd9f5e1-6e3b-44db-91c8-73c242fd8296', metadata={'page': 0.0, 'source': '/content/personal_finance_advisor.pdf'}, page_content='Query Advice\\nHow can I save money on groceries? Create a budget\\nHow can I save money on rent? Create a budget\\nHow can I save money on utilities? Create a budget\\nHow can I save money on entertainment? Create a budget\\nHow can I save money on travel? Create a budget\\nHow can I save money on groceries? Create a budget\\nHow can I save money on rent? Create a budget\\nHow can I save money on utilities? Create a budget\\nHow can I save money on entertainment? Create a budget\\nHow can I save money on travel? Create a budget\\nHow can I save money on groceries? Create a budget\\nHow can I save money on rent? Create a budget\\nHow can I save money on utilities? Create a budget\\nHow can I save money on entertainment? Create a budget\\nHow can I save money on travel? Create a budget\\nHow can I save money on groceries? Create a budget\\nHow can I save money on rent? Create a budget\\nHow can I save money on utilities? Create a budget\\nHow can I save money on entertainment? Create a budget'), Document(id='ac144686-f1a8-4da3-ad16-0f90b730a2db', metadata={'page': 21.0, 'source': '/content/personal_finance_advisor.pdf'}, page_content='How can I save money on travel? Create a budget\\nHow can I save money on groceries? Create a budget\\nHow can I save money on rent? Create a budget\\nHow can I save money on utilities? Create a budget\\nHow can I save money on entertainment? Create a budget\\nHow can I save money on travel? Create a budget'), Document(id='60f1d9c0-cd22-49ce-b3d1-79f5fc68d3ec', metadata={'page': 7.0, 'source': '/content/personal_finance_advisor.pdf'}, page_content='How can I save money on groceries? Create a budget\\nHow can I save money on rent? Create a budget\\nHow can I save money on utilities? Create a budget\\nHow can I save money on entertainment? Create a budget\\nHow can I save money on travel? Create a budget\\nHow can I save money on groceries? Create a budget\\nHow can I save money on rent? Create a budget\\nHow can I save money on utilities? Create a budget\\nHow can I save money on entertainment? Create a budget\\nHow can I save money on travel? Create a budget\\nHow can I save money on groceries? Create a budget\\nHow can I save money on rent? Create a budget\\nHow can I save money on utilities? Create a budget\\nHow can I save money on entertainment? Create a budget\\nHow can I save money on travel? Create a budget\\nHow can I save money on groceries? Create a budget\\nHow can I save money on rent? Create a budget\\nHow can I save money on utilities? Create a budget\\nHow can I save money on entertainment? Create a budget'), Document(id='c1d4a796-e776-404a-bf2f-99db621818ea', metadata={'page': 2.0, 'source': '/content/personal_finance_advisor.pdf'}, page_content='How can I save money on groceries? Create a budget\\nHow can I save money on rent? Create a budget\\nHow can I save money on utilities? Create a budget\\nHow can I save money on entertainment? Create a budget\\nHow can I save money on travel? Create a budget\\nHow can I save money on groceries? Create a budget\\nHow can I save money on rent? Create a budget\\nHow can I save money on utilities? Create a budget\\nHow can I save money on entertainment? Create a budget\\nHow can I save money on travel? Create a budget\\nHow can I save money on groceries? Create a budget\\nHow can I save money on rent? Create a budget\\nHow can I save money on utilities? Create a budget\\nHow can I save money on entertainment? Create a budget\\nHow can I save money on travel? Create a budget\\nHow can I save money on groceries? Create a budget\\nHow can I save money on rent? Create a budget\\nHow can I save money on utilities? Create a budget\\nHow can I save money on entertainment? Create a budget'), Document(id='de07204d-9784-4516-91a6-92e44d369a6d', metadata={'page': 17.0, 'source': '/content/personal_finance_advisor.pdf'}, page_content='How can I save money on groceries? Create a budget\\nHow can I save money on rent? Create a budget\\nHow can I save money on utilities? Create a budget\\nHow can I save money on entertainment? Create a budget\\nHow can I save money on travel? Create a budget\\nHow can I save money on groceries? Create a budget\\nHow can I save money on rent? Create a budget\\nHow can I save money on utilities? Create a budget\\nHow can I save money on entertainment? Create a budget\\nHow can I save money on travel? Create a budget\\nHow can I save money on groceries? Create a budget\\nHow can I save money on rent? Create a budget\\nHow can I save money on utilities? Create a budget\\nHow can I save money on entertainment? Create a budget\\nHow can I save money on travel? Create a budget\\nHow can I save money on groceries? Create a budget\\nHow can I save money on rent? Create a budget\\nHow can I save money on utilities? Create a budget\\nHow can I save money on entertainment? Create a budget'), Document(id='91db07a9-5939-46d6-8d7e-fed5d59a6cf0', metadata={'page': 12.0, 'source': '/content/personal_finance_advisor.pdf'}, page_content='How can I save money on groceries? Create a budget\\nHow can I save money on rent? Create a budget\\nHow can I save money on utilities? Create a budget\\nHow can I save money on entertainment? Create a budget\\nHow can I save money on travel? Create a budget\\nHow can I save money on groceries? Create a budget\\nHow can I save money on rent? Create a budget\\nHow can I save money on utilities? Create a budget\\nHow can I save money on entertainment? Create a budget\\nHow can I save money on travel? Create a budget\\nHow can I save money on groceries? Create a budget\\nHow can I save money on rent? Create a budget\\nHow can I save money on utilities? Create a budget\\nHow can I save money on entertainment? Create a budget\\nHow can I save money on travel? Create a budget\\nHow can I save money on groceries? Create a budget\\nHow can I save money on rent? Create a budget\\nHow can I save money on utilities? Create a budget\\nHow can I save money on entertainment? Create a budget'), Document(id='6bcb891f-6499-449a-826d-06de7f3e2ab8', metadata={'page': 6.0, 'source': '/content/personal_finance_advisor.pdf'}, page_content='How can I save money on travel? Create a budget\\nHow can I save money on groceries? Create a budget\\nHow can I save money on rent? Create a budget\\nHow can I save money on utilities? Create a budget\\nHow can I save money on entertainment? Create a budget\\nHow can I save money on travel? Create a budget\\nHow can I save money on groceries? Create a budget\\nHow can I save money on rent? Create a budget\\nHow can I save money on utilities? Create a budget\\nHow can I save money on entertainment? Create a budget\\nHow can I save money on travel? Create a budget\\nHow can I save money on groceries? Create a budget\\nHow can I save money on rent? Create a budget\\nHow can I save money on utilities? Create a budget\\nHow can I save money on entertainment? Create a budget\\nHow can I save money on travel? Create a budget'), Document(id='b634fef7-b28e-47b6-ab8b-8e593ee886c1', metadata={'page': 16.0, 'source': '/content/personal_finance_advisor.pdf'}, page_content='How can I save money on travel? Create a budget\\nHow can I save money on groceries? Create a budget\\nHow can I save money on rent? Create a budget\\nHow can I save money on utilities? Create a budget\\nHow can I save money on entertainment? Create a budget\\nHow can I save money on travel? Create a budget\\nHow can I save money on groceries? Create a budget\\nHow can I save money on rent? Create a budget\\nHow can I save money on utilities? Create a budget\\nHow can I save money on entertainment? Create a budget\\nHow can I save money on travel? Create a budget\\nHow can I save money on groceries? Create a budget\\nHow can I save money on rent? Create a budget\\nHow can I save money on utilities? Create a budget\\nHow can I save money on entertainment? Create a budget\\nHow can I save money on travel? Create a budget'), Document(id='540c2c7e-684d-4cc8-bf2c-083b1bfdef94', metadata={'page': 11.0, 'source': '/content/personal_finance_advisor.pdf'}, page_content='How can I save money on travel? Create a budget\\nHow can I save money on groceries? Create a budget\\nHow can I save money on rent? Create a budget\\nHow can I save money on utilities? Create a budget\\nHow can I save money on entertainment? Create a budget\\nHow can I save money on travel? Create a budget\\nHow can I save money on groceries? Create a budget\\nHow can I save money on rent? Create a budget\\nHow can I save money on utilities? Create a budget\\nHow can I save money on entertainment? Create a budget\\nHow can I save money on travel? Create a budget\\nHow can I save money on groceries? Create a budget\\nHow can I save money on rent? Create a budget\\nHow can I save money on utilities? Create a budget\\nHow can I save money on entertainment? Create a budget\\nHow can I save money on travel? Create a budget'), Document(id='58184898-58e1-4fb3-9431-e51a0593335c', metadata={'page': 1.0, 'source': '/content/personal_finance_advisor.pdf'}, page_content='How can I save money on travel? Create a budget\\nHow can I save money on groceries? Create a budget\\nHow can I save money on rent? Create a budget\\nHow can I save money on utilities? Create a budget\\nHow can I save money on entertainment? Create a budget\\nHow can I save money on travel? Create a budget\\nHow can I save money on groceries? Create a budget\\nHow can I save money on rent? Create a budget\\nHow can I save money on utilities? Create a budget\\nHow can I save money on entertainment? Create a budget\\nHow can I save money on travel? Create a budget\\nHow can I save money on groceries? Create a budget\\nHow can I save money on rent? Create a budget\\nHow can I save money on utilities? Create a budget\\nHow can I save money on entertainment? Create a budget\\nHow can I save money on travel? Create a budget')]\n",
            "Answer : This question cannot be answered from the given source.  The provided text only contains advice on saving money in various areas and does not include any information about product return policies or product 652.\n"
          ]
        }
      ]
    },
    {
      "cell_type": "code",
      "source": [],
      "metadata": {
        "id": "47XYHJK5u_Ht"
      },
      "execution_count": 27,
      "outputs": []
    }
  ]
}