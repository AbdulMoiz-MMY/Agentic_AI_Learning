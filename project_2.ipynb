{
  "nbformat": 4,
  "nbformat_minor": 0,
  "metadata": {
    "colab": {
      "provenance": [],
      "include_colab_link": true
    },
    "kernelspec": {
      "name": "python3",
      "display_name": "Python 3"
    },
    "language_info": {
      "name": "python"
    }
  },
  "cells": [
    {
      "cell_type": "markdown",
      "metadata": {
        "id": "view-in-github",
        "colab_type": "text"
      },
      "source": [
        "<a href=\"https://colab.research.google.com/github/AbdulMoiz-MMY/Agentic_AI_Learning/blob/main/project_2.ipynb\" target=\"_parent\"><img src=\"https://colab.research.google.com/assets/colab-badge.svg\" alt=\"Open In Colab\"/></a>"
      ]
    },
    {
      "cell_type": "code",
      "execution_count": 17,
      "metadata": {
        "id": "se2VP2W9i3xY"
      },
      "outputs": [],
      "source": [
        "!pip install -qU langchain-pinecone langchain-google-genai"
      ]
    },
    {
      "cell_type": "code",
      "source": [
        "from google.colab import userdata\n",
        "\n",
        "from pinecone import Pinecone,ServerlessSpec\n",
        "\n",
        "pinecone_api_key = userdata.get(\"PINECONE_API_KEY\")\n",
        "\n",
        "if not pinecone_api_key:\n",
        "    raise ValueError(\"PINECONE_API_KEY not set\")\n",
        "\n",
        "pc = Pinecone(api_key = pinecone_api_key)"
      ],
      "metadata": {
        "id": "lHDGIKv2k-AR"
      },
      "execution_count": 18,
      "outputs": []
    },
    {
      "cell_type": "code",
      "source": [
        "index_name = \"onclass-rag-project\"\n",
        "\n",
        "existing_indexes = [index_info[\"name\"] for index_info in pc.list_indexes()]\n",
        "\n",
        "if index_name not in existing_indexes:\n",
        "    pc.create_index(\n",
        "        name=index_name,\n",
        "        dimension= 768,\n",
        "        metric=\"cosine\",\n",
        "        spec=ServerlessSpec(cloud=\"aws\", region=\"us-east-1\"),\n",
        "    )\n",
        "\n",
        "index = pc.Index(index_name)"
      ],
      "metadata": {
        "id": "aKQFKJ8bl3b8"
      },
      "execution_count": 19,
      "outputs": []
    },
    {
      "cell_type": "code",
      "source": [
        "from langchain_google_genai import GoogleGenerativeAIEmbeddings\n",
        "import os\n",
        "\n",
        "os.environ['GOOGLE_API_KEY'] = userdata.get(\"GOOGLE_API_KEY\")\n",
        "embeddings = GoogleGenerativeAIEmbeddings(model=\"models/embedding-001\")"
      ],
      "metadata": {
        "id": "FN5S9EN0mcSp"
      },
      "execution_count": 20,
      "outputs": []
    },
    {
      "cell_type": "code",
      "source": [
        "vector = embeddings.embed_query(\"We are building a rag query\")"
      ],
      "metadata": {
        "id": "E_QFr8FKnS13"
      },
      "execution_count": 21,
      "outputs": []
    },
    {
      "cell_type": "code",
      "source": [
        "vector[:5]"
      ],
      "metadata": {
        "colab": {
          "base_uri": "https://localhost:8080/"
        },
        "id": "3nT6fSAnnjTD",
        "outputId": "26a6efa1-9684-4abc-a178-eaf4a6ef0bdb"
      },
      "execution_count": 22,
      "outputs": [
        {
          "output_type": "execute_result",
          "data": {
            "text/plain": [
              "[0.03296078369021416,\n",
              " -0.05385661870241165,\n",
              " -0.0600518062710762,\n",
              " -0.032095782458782196,\n",
              " -0.009051025845110416]"
            ]
          },
          "metadata": {},
          "execution_count": 22
        }
      ]
    },
    {
      "cell_type": "code",
      "source": [
        "from langchain_pinecone import PineconeVectorStore\n",
        "\n",
        "vector_store = PineconeVectorStore(index,embeddings)"
      ],
      "metadata": {
        "id": "7cQf0oPwnxME"
      },
      "execution_count": 23,
      "outputs": []
    },
    {
      "cell_type": "code",
      "source": [
        "!pip install -q langchain_community"
      ],
      "metadata": {
        "id": "rgXkYGS6oiGT"
      },
      "execution_count": 24,
      "outputs": []
    },
    {
      "cell_type": "code",
      "source": [
        "!pip install PyPDF"
      ],
      "metadata": {
        "colab": {
          "base_uri": "https://localhost:8080/"
        },
        "collapsed": true,
        "id": "gTnEYv-Ld9Qe",
        "outputId": "f7644d60-ec3e-4fc3-9d7d-b14e30012ffb"
      },
      "execution_count": 25,
      "outputs": [
        {
          "output_type": "stream",
          "name": "stdout",
          "text": [
            "Requirement already satisfied: PyPDF in /usr/local/lib/python3.10/dist-packages (5.1.0)\n",
            "Requirement already satisfied: typing_extensions>=4.0 in /usr/local/lib/python3.10/dist-packages (from PyPDF) (4.12.2)\n"
          ]
        }
      ]
    },
    {
      "cell_type": "code",
      "source": [
        "from langchain_community.document_loaders import PyPDFLoader\n",
        "\n",
        "loader = PyPDFLoader(\"/content/personal_finance_advisor.pdf\")\n",
        "data = loader.load()"
      ],
      "metadata": {
        "id": "QZHAmdOodtAT"
      },
      "execution_count": 26,
      "outputs": []
    },
    {
      "cell_type": "code",
      "source": [
        "len(data)"
      ],
      "metadata": {
        "colab": {
          "base_uri": "https://localhost:8080/"
        },
        "id": "a3NcaXhFeN05",
        "outputId": "699a6bba-7fc0-44d8-a06d-8ef259759553"
      },
      "execution_count": 27,
      "outputs": [
        {
          "output_type": "execute_result",
          "data": {
            "text/plain": [
              "22"
            ]
          },
          "metadata": {},
          "execution_count": 27
        }
      ]
    },
    {
      "cell_type": "code",
      "source": [
        "from langchain.text_splitter import RecursiveCharacterTextSplitter\n",
        "\n",
        "text_splitter = RecursiveCharacterTextSplitter(chunk_size=1000, chunk_overlap=200)\n",
        "\n",
        "docs = text_splitter.split_documents(data)\n",
        "\n",
        "len(docs)"
      ],
      "metadata": {
        "colab": {
          "base_uri": "https://localhost:8080/"
        },
        "id": "3rFUz_xPeIAL",
        "outputId": "2663bd46-f7e3-4af5-8965-3a556858933a"
      },
      "execution_count": 28,
      "outputs": [
        {
          "output_type": "execute_result",
          "data": {
            "text/plain": [
              "66"
            ]
          },
          "metadata": {},
          "execution_count": 28
        }
      ]
    },
    {
      "cell_type": "code",
      "source": [
        "docs[3]"
      ],
      "metadata": {
        "colab": {
          "base_uri": "https://localhost:8080/"
        },
        "id": "P1vDAGdVeU6v",
        "outputId": "f110cedf-55cf-4794-f1e1-ada3b9ef3975"
      },
      "execution_count": 29,
      "outputs": [
        {
          "output_type": "execute_result",
          "data": {
            "text/plain": [
              "Document(metadata={'source': '/content/personal_finance_advisor.pdf', 'page': 1}, page_content='How can I save money on travel? Create a budget\\nHow can I save money on groceries? Create a budget\\nHow can I save money on rent? Create a budget\\nHow can I save money on utilities? Create a budget\\nHow can I save money on entertainment? Create a budget\\nHow can I save money on travel? Create a budget\\nHow can I save money on groceries? Create a budget\\nHow can I save money on rent? Create a budget\\nHow can I save money on utilities? Create a budget\\nHow can I save money on entertainment? Create a budget\\nHow can I save money on travel? Create a budget\\nHow can I save money on groceries? Create a budget\\nHow can I save money on rent? Create a budget\\nHow can I save money on utilities? Create a budget\\nHow can I save money on entertainment? Create a budget\\nHow can I save money on travel? Create a budget\\nHow can I save money on groceries? Create a budget\\nHow can I save money on rent? Create a budget\\nHow can I save money on utilities? Create a budget')"
            ]
          },
          "metadata": {},
          "execution_count": 29
        }
      ]
    },
    {
      "cell_type": "code",
      "source": [
        "from uuid import uuid4\n",
        "\n",
        "uuids = [str(uuid4()) for _ in range(len(docs))]\n",
        "\n",
        "vector_store.add_documents(documents=docs,ids=uuids)"
      ],
      "metadata": {
        "colab": {
          "base_uri": "https://localhost:8080/"
        },
        "id": "MVy5UKApprkN",
        "outputId": "90e4bb52-a625-4eb5-c387-ec1a2c9d6a4e"
      },
      "execution_count": 30,
      "outputs": [
        {
          "output_type": "execute_result",
          "data": {
            "text/plain": [
              "['7f765d11-6642-482f-a442-38f9ae10b181',\n",
              " '4d5f55c4-e53a-4a65-9cb1-aecb414ae1ef',\n",
              " '43e69148-e169-41f1-977a-c24c778f332f',\n",
              " '54c9ff24-0fd6-4505-a6aa-05c46e3259a2',\n",
              " '2c804601-0900-4bcb-83ac-45aff1f56834',\n",
              " '07117a54-c14a-4fbe-ba2d-929016fb4f33',\n",
              " '70c29cfc-937a-45b0-81f5-046f5e374d24',\n",
              " '43a994a7-8555-4cfa-b85c-e283d12109b9',\n",
              " 'cee26bcc-4d11-402b-ba53-0d0133f54591',\n",
              " '6f3c03ff-b770-471a-9562-646171e41220',\n",
              " 'd0256ef7-8f53-4a2a-bfab-ca2e60931340',\n",
              " '5ac90795-4167-4cfa-b891-2eb34410307f',\n",
              " '86e5ebf1-9dbe-4e50-ad90-ffa0c68e13f8',\n",
              " '812c9a3f-de60-41fe-be2f-d97ab80bf313',\n",
              " '55a586f0-ba14-4f89-a3d6-c3009b8b3be2',\n",
              " 'f31c9e8c-f6af-4eb8-bea3-617e18a0ccea',\n",
              " '16094e26-732a-4eb8-84f5-b1f43be7e659',\n",
              " '9f772ad6-1857-423d-9087-c62ff811366c',\n",
              " '1115b2f1-6bae-4ac2-b50f-38974e7f5a91',\n",
              " 'c1c0a1a9-d7d7-4848-bc1c-80c19ac25b13',\n",
              " '26e85380-3cc1-4c46-bea5-5257f0bd7635',\n",
              " '9a6f6ffb-8769-4d69-a791-b5e1b2b69d38',\n",
              " 'a297e227-b8eb-481e-812d-01af6f6d4527',\n",
              " '98158dbe-781d-4a9d-bdb4-b9a810189f97',\n",
              " 'd229cc13-bfd5-4ef5-90c6-e50c0b737644',\n",
              " 'c9d2a14c-8818-43ab-97b9-592fe01060c3',\n",
              " '3661fd93-008e-400d-9941-0244fc9ee4cf',\n",
              " 'd7d2d5bf-d1bc-4651-8057-3aaf3847902d',\n",
              " 'd2d9854b-1d82-44be-93d3-ffd310a35704',\n",
              " '26de0634-b691-417a-bb53-18ec63a0d05e',\n",
              " 'd95bafee-e6cd-4ce5-bcbe-7091a71cc742',\n",
              " '879c106a-3f58-4ef5-874d-0e14abbd408f',\n",
              " '516506a6-9b45-41d8-a528-9d915b3b0f37',\n",
              " '7e405cd7-4cfe-40ad-ac35-937ced78c343',\n",
              " '394f063b-33b6-4e45-baa5-64ab61a11152',\n",
              " '9fdf8e2e-6485-4d31-b77a-0b27f099a111',\n",
              " 'e9e3c555-ab49-44d5-8fdf-f91e92f691a5',\n",
              " 'e7e158ea-e365-4c18-be4f-5f7c87aa7b31',\n",
              " 'de563f67-2442-45e4-92df-753b89c4971f',\n",
              " '7f923901-d63b-485e-83ad-4ce761acfc52',\n",
              " '06c139a9-f139-46b6-8acb-4c7785ea92ec',\n",
              " '2a7e835c-b27b-4963-8940-3000bc8e84d9',\n",
              " 'b12b00fb-13c4-4580-ba7c-d593c9c7e144',\n",
              " 'da26889f-c83a-41f0-8b6e-e0bce997214f',\n",
              " '494c12a4-b8ab-4463-9426-dcb642488a90',\n",
              " '73c0cb36-b364-4b37-ae4a-55a7e7e61943',\n",
              " '54d0f51e-70be-45f3-a8da-0a1f9330fd7d',\n",
              " '659fb781-2167-42e3-ada4-f9dab0314e3c',\n",
              " '5bce493c-3728-4bbc-9724-e99bd098701e',\n",
              " 'df9c7200-6f51-4b5e-922e-9e698f6be343',\n",
              " 'e58812d9-27d1-426e-93df-cfcb60e08a27',\n",
              " 'f6348207-da47-4019-8bb7-70549aa70c76',\n",
              " '50c86845-ded0-4440-b2ae-7509de062c3c',\n",
              " 'e80cec77-a0e5-4b5c-9b07-fb4e101e7738',\n",
              " '6ed50574-93c6-4520-9607-9ecde82aa265',\n",
              " '1d74da87-5c42-446a-9508-d2d170891901',\n",
              " '959efe4d-b691-4db2-8c5e-fa3acc9b1777',\n",
              " '37c0abb9-32b8-4894-9703-11cfafd0a0b1',\n",
              " '259bf7ea-ccae-4e1c-b151-3f1e4fe4060c',\n",
              " 'a2939e7b-37cd-48ee-a537-1e105c4f7e3b',\n",
              " 'b6f11f09-e5e2-47e0-910d-58e0c5eaf4a2',\n",
              " '9cf37e5f-0a2e-4c41-8fff-dfc5002f6aa2',\n",
              " 'df7d0969-b75d-4aad-b6d3-a2c71549f39d',\n",
              " 'add07d4f-4f6a-4364-ab5b-9f73fe26eccb',\n",
              " 'bc9c500c-fcaa-451d-8113-d05fd82e2159',\n",
              " '1f71c6d3-a4ff-4aa2-b90e-afb416f6c20e']"
            ]
          },
          "metadata": {},
          "execution_count": 30
        }
      ]
    },
    {
      "cell_type": "code",
      "source": [
        "retriever = vector_store.as_retriever(search_type=\"similarity\", search_kwargs={\"k\": 10})\n",
        "\n",
        "retrieved_docs = retriever.invoke(\"Return Policy for Product 452 and 950\")"
      ],
      "metadata": {
        "id": "FX_U2sS1fCE7"
      },
      "execution_count": 31,
      "outputs": []
    },
    {
      "cell_type": "code",
      "source": [
        "retrieved_docs"
      ],
      "metadata": {
        "colab": {
          "base_uri": "https://localhost:8080/"
        },
        "id": "dSH2Jc-Rgatp",
        "outputId": "469ac18b-88e1-483b-bb49-9c009c9b0825"
      },
      "execution_count": 32,
      "outputs": [
        {
          "output_type": "execute_result",
          "data": {
            "text/plain": [
              "[Document(id='ddd9f5e1-6e3b-44db-91c8-73c242fd8296', metadata={'page': 0.0, 'source': '/content/personal_finance_advisor.pdf'}, page_content='Query Advice\\nHow can I save money on groceries? Create a budget\\nHow can I save money on rent? Create a budget\\nHow can I save money on utilities? Create a budget\\nHow can I save money on entertainment? Create a budget\\nHow can I save money on travel? Create a budget\\nHow can I save money on groceries? Create a budget\\nHow can I save money on rent? Create a budget\\nHow can I save money on utilities? Create a budget\\nHow can I save money on entertainment? Create a budget\\nHow can I save money on travel? Create a budget\\nHow can I save money on groceries? Create a budget\\nHow can I save money on rent? Create a budget\\nHow can I save money on utilities? Create a budget\\nHow can I save money on entertainment? Create a budget\\nHow can I save money on travel? Create a budget\\nHow can I save money on groceries? Create a budget\\nHow can I save money on rent? Create a budget\\nHow can I save money on utilities? Create a budget\\nHow can I save money on entertainment? Create a budget'),\n",
              " Document(id='91db07a9-5939-46d6-8d7e-fed5d59a6cf0', metadata={'page': 12.0, 'source': '/content/personal_finance_advisor.pdf'}, page_content='How can I save money on groceries? Create a budget\\nHow can I save money on rent? Create a budget\\nHow can I save money on utilities? Create a budget\\nHow can I save money on entertainment? Create a budget\\nHow can I save money on travel? Create a budget\\nHow can I save money on groceries? Create a budget\\nHow can I save money on rent? Create a budget\\nHow can I save money on utilities? Create a budget\\nHow can I save money on entertainment? Create a budget\\nHow can I save money on travel? Create a budget\\nHow can I save money on groceries? Create a budget\\nHow can I save money on rent? Create a budget\\nHow can I save money on utilities? Create a budget\\nHow can I save money on entertainment? Create a budget\\nHow can I save money on travel? Create a budget\\nHow can I save money on groceries? Create a budget\\nHow can I save money on rent? Create a budget\\nHow can I save money on utilities? Create a budget\\nHow can I save money on entertainment? Create a budget'),\n",
              " Document(id='c1d4a796-e776-404a-bf2f-99db621818ea', metadata={'page': 2.0, 'source': '/content/personal_finance_advisor.pdf'}, page_content='How can I save money on groceries? Create a budget\\nHow can I save money on rent? Create a budget\\nHow can I save money on utilities? Create a budget\\nHow can I save money on entertainment? Create a budget\\nHow can I save money on travel? Create a budget\\nHow can I save money on groceries? Create a budget\\nHow can I save money on rent? Create a budget\\nHow can I save money on utilities? Create a budget\\nHow can I save money on entertainment? Create a budget\\nHow can I save money on travel? Create a budget\\nHow can I save money on groceries? Create a budget\\nHow can I save money on rent? Create a budget\\nHow can I save money on utilities? Create a budget\\nHow can I save money on entertainment? Create a budget\\nHow can I save money on travel? Create a budget\\nHow can I save money on groceries? Create a budget\\nHow can I save money on rent? Create a budget\\nHow can I save money on utilities? Create a budget\\nHow can I save money on entertainment? Create a budget'),\n",
              " Document(id='de07204d-9784-4516-91a6-92e44d369a6d', metadata={'page': 17.0, 'source': '/content/personal_finance_advisor.pdf'}, page_content='How can I save money on groceries? Create a budget\\nHow can I save money on rent? Create a budget\\nHow can I save money on utilities? Create a budget\\nHow can I save money on entertainment? Create a budget\\nHow can I save money on travel? Create a budget\\nHow can I save money on groceries? Create a budget\\nHow can I save money on rent? Create a budget\\nHow can I save money on utilities? Create a budget\\nHow can I save money on entertainment? Create a budget\\nHow can I save money on travel? Create a budget\\nHow can I save money on groceries? Create a budget\\nHow can I save money on rent? Create a budget\\nHow can I save money on utilities? Create a budget\\nHow can I save money on entertainment? Create a budget\\nHow can I save money on travel? Create a budget\\nHow can I save money on groceries? Create a budget\\nHow can I save money on rent? Create a budget\\nHow can I save money on utilities? Create a budget\\nHow can I save money on entertainment? Create a budget'),\n",
              " Document(id='60f1d9c0-cd22-49ce-b3d1-79f5fc68d3ec', metadata={'page': 7.0, 'source': '/content/personal_finance_advisor.pdf'}, page_content='How can I save money on groceries? Create a budget\\nHow can I save money on rent? Create a budget\\nHow can I save money on utilities? Create a budget\\nHow can I save money on entertainment? Create a budget\\nHow can I save money on travel? Create a budget\\nHow can I save money on groceries? Create a budget\\nHow can I save money on rent? Create a budget\\nHow can I save money on utilities? Create a budget\\nHow can I save money on entertainment? Create a budget\\nHow can I save money on travel? Create a budget\\nHow can I save money on groceries? Create a budget\\nHow can I save money on rent? Create a budget\\nHow can I save money on utilities? Create a budget\\nHow can I save money on entertainment? Create a budget\\nHow can I save money on travel? Create a budget\\nHow can I save money on groceries? Create a budget\\nHow can I save money on rent? Create a budget\\nHow can I save money on utilities? Create a budget\\nHow can I save money on entertainment? Create a budget'),\n",
              " Document(id='ac144686-f1a8-4da3-ad16-0f90b730a2db', metadata={'page': 21.0, 'source': '/content/personal_finance_advisor.pdf'}, page_content='How can I save money on travel? Create a budget\\nHow can I save money on groceries? Create a budget\\nHow can I save money on rent? Create a budget\\nHow can I save money on utilities? Create a budget\\nHow can I save money on entertainment? Create a budget\\nHow can I save money on travel? Create a budget'),\n",
              " Document(id='58184898-58e1-4fb3-9431-e51a0593335c', metadata={'page': 1.0, 'source': '/content/personal_finance_advisor.pdf'}, page_content='How can I save money on travel? Create a budget\\nHow can I save money on groceries? Create a budget\\nHow can I save money on rent? Create a budget\\nHow can I save money on utilities? Create a budget\\nHow can I save money on entertainment? Create a budget\\nHow can I save money on travel? Create a budget\\nHow can I save money on groceries? Create a budget\\nHow can I save money on rent? Create a budget\\nHow can I save money on utilities? Create a budget\\nHow can I save money on entertainment? Create a budget\\nHow can I save money on travel? Create a budget\\nHow can I save money on groceries? Create a budget\\nHow can I save money on rent? Create a budget\\nHow can I save money on utilities? Create a budget\\nHow can I save money on entertainment? Create a budget\\nHow can I save money on travel? Create a budget'),\n",
              " Document(id='540c2c7e-684d-4cc8-bf2c-083b1bfdef94', metadata={'page': 11.0, 'source': '/content/personal_finance_advisor.pdf'}, page_content='How can I save money on travel? Create a budget\\nHow can I save money on groceries? Create a budget\\nHow can I save money on rent? Create a budget\\nHow can I save money on utilities? Create a budget\\nHow can I save money on entertainment? Create a budget\\nHow can I save money on travel? Create a budget\\nHow can I save money on groceries? Create a budget\\nHow can I save money on rent? Create a budget\\nHow can I save money on utilities? Create a budget\\nHow can I save money on entertainment? Create a budget\\nHow can I save money on travel? Create a budget\\nHow can I save money on groceries? Create a budget\\nHow can I save money on rent? Create a budget\\nHow can I save money on utilities? Create a budget\\nHow can I save money on entertainment? Create a budget\\nHow can I save money on travel? Create a budget'),\n",
              " Document(id='6bcb891f-6499-449a-826d-06de7f3e2ab8', metadata={'page': 6.0, 'source': '/content/personal_finance_advisor.pdf'}, page_content='How can I save money on travel? Create a budget\\nHow can I save money on groceries? Create a budget\\nHow can I save money on rent? Create a budget\\nHow can I save money on utilities? Create a budget\\nHow can I save money on entertainment? Create a budget\\nHow can I save money on travel? Create a budget\\nHow can I save money on groceries? Create a budget\\nHow can I save money on rent? Create a budget\\nHow can I save money on utilities? Create a budget\\nHow can I save money on entertainment? Create a budget\\nHow can I save money on travel? Create a budget\\nHow can I save money on groceries? Create a budget\\nHow can I save money on rent? Create a budget\\nHow can I save money on utilities? Create a budget\\nHow can I save money on entertainment? Create a budget\\nHow can I save money on travel? Create a budget'),\n",
              " Document(id='b634fef7-b28e-47b6-ab8b-8e593ee886c1', metadata={'page': 16.0, 'source': '/content/personal_finance_advisor.pdf'}, page_content='How can I save money on travel? Create a budget\\nHow can I save money on groceries? Create a budget\\nHow can I save money on rent? Create a budget\\nHow can I save money on utilities? Create a budget\\nHow can I save money on entertainment? Create a budget\\nHow can I save money on travel? Create a budget\\nHow can I save money on groceries? Create a budget\\nHow can I save money on rent? Create a budget\\nHow can I save money on utilities? Create a budget\\nHow can I save money on entertainment? Create a budget\\nHow can I save money on travel? Create a budget\\nHow can I save money on groceries? Create a budget\\nHow can I save money on rent? Create a budget\\nHow can I save money on utilities? Create a budget\\nHow can I save money on entertainment? Create a budget\\nHow can I save money on travel? Create a budget')]"
            ]
          },
          "metadata": {},
          "execution_count": 32
        }
      ]
    },
    {
      "cell_type": "code",
      "source": [
        "len(retrieved_docs)"
      ],
      "metadata": {
        "colab": {
          "base_uri": "https://localhost:8080/"
        },
        "id": "W8f3G3w6fY_S",
        "outputId": "0f0ac6c2-0b96-49c9-a81c-36a8bd2c24e4"
      },
      "execution_count": 33,
      "outputs": [
        {
          "output_type": "execute_result",
          "data": {
            "text/plain": [
              "10"
            ]
          },
          "metadata": {},
          "execution_count": 33
        }
      ]
    },
    {
      "cell_type": "markdown",
      "source": [],
      "metadata": {
        "id": "GvgVEK2YKl-P"
      }
    },
    {
      "cell_type": "markdown",
      "source": [],
      "metadata": {
        "id": "jtEGF-DAKmdP"
      }
    },
    {
      "cell_type": "code",
      "source": [
        "# print(retrieved_docs[5].page_content)\n",
        "if retrieved_docs:\n",
        "    print(retrieved_docs[4].page_content)\n",
        "else:\n",
        "    print(\"retrieved_docs is empty, cannot access element at index 5.\")"
      ],
      "metadata": {
        "colab": {
          "base_uri": "https://localhost:8080/"
        },
        "id": "C5b6-3MMfexq",
        "outputId": "f1070128-587d-47e6-ee0f-aa6a294a04bf"
      },
      "execution_count": 34,
      "outputs": [
        {
          "output_type": "stream",
          "name": "stdout",
          "text": [
            "How can I save money on groceries? Create a budget\n",
            "How can I save money on rent? Create a budget\n",
            "How can I save money on utilities? Create a budget\n",
            "How can I save money on entertainment? Create a budget\n",
            "How can I save money on travel? Create a budget\n",
            "How can I save money on groceries? Create a budget\n",
            "How can I save money on rent? Create a budget\n",
            "How can I save money on utilities? Create a budget\n",
            "How can I save money on entertainment? Create a budget\n",
            "How can I save money on travel? Create a budget\n",
            "How can I save money on groceries? Create a budget\n",
            "How can I save money on rent? Create a budget\n",
            "How can I save money on utilities? Create a budget\n",
            "How can I save money on entertainment? Create a budget\n",
            "How can I save money on travel? Create a budget\n",
            "How can I save money on groceries? Create a budget\n",
            "How can I save money on rent? Create a budget\n",
            "How can I save money on utilities? Create a budget\n",
            "How can I save money on entertainment? Create a budget\n"
          ]
        }
      ]
    },
    {
      "cell_type": "code",
      "source": [
        "results = vector_store.similarity_search(\n",
        "    \"Return Policy for Product 9,50\",\n",
        "    k=10\n",
        ")\n",
        "\n",
        "for res in results :\n",
        "  print(f\"* {res.page_content} [{res.metadata}]\")"
      ],
      "metadata": {
        "id": "OnLvxRt6qhZs",
        "colab": {
          "base_uri": "https://localhost:8080/"
        },
        "outputId": "d3b70204-a825-468d-97c9-af46a90d7b4b"
      },
      "execution_count": 35,
      "outputs": [
        {
          "output_type": "stream",
          "name": "stdout",
          "text": [
            "* Query Advice\n",
            "How can I save money on groceries? Create a budget\n",
            "How can I save money on rent? Create a budget\n",
            "How can I save money on utilities? Create a budget\n",
            "How can I save money on entertainment? Create a budget\n",
            "How can I save money on travel? Create a budget\n",
            "How can I save money on groceries? Create a budget\n",
            "How can I save money on rent? Create a budget\n",
            "How can I save money on utilities? Create a budget\n",
            "How can I save money on entertainment? Create a budget\n",
            "How can I save money on travel? Create a budget\n",
            "How can I save money on groceries? Create a budget\n",
            "How can I save money on rent? Create a budget\n",
            "How can I save money on utilities? Create a budget\n",
            "How can I save money on entertainment? Create a budget\n",
            "How can I save money on travel? Create a budget\n",
            "How can I save money on groceries? Create a budget\n",
            "How can I save money on rent? Create a budget\n",
            "How can I save money on utilities? Create a budget\n",
            "How can I save money on entertainment? Create a budget [{'page': 0.0, 'source': '/content/personal_finance_advisor.pdf'}]\n",
            "* How can I save money on groceries? Create a budget\n",
            "How can I save money on rent? Create a budget\n",
            "How can I save money on utilities? Create a budget\n",
            "How can I save money on entertainment? Create a budget\n",
            "How can I save money on travel? Create a budget\n",
            "How can I save money on groceries? Create a budget\n",
            "How can I save money on rent? Create a budget\n",
            "How can I save money on utilities? Create a budget\n",
            "How can I save money on entertainment? Create a budget\n",
            "How can I save money on travel? Create a budget\n",
            "How can I save money on groceries? Create a budget\n",
            "How can I save money on rent? Create a budget\n",
            "How can I save money on utilities? Create a budget\n",
            "How can I save money on entertainment? Create a budget\n",
            "How can I save money on travel? Create a budget\n",
            "How can I save money on groceries? Create a budget\n",
            "How can I save money on rent? Create a budget\n",
            "How can I save money on utilities? Create a budget\n",
            "How can I save money on entertainment? Create a budget [{'page': 12.0, 'source': '/content/personal_finance_advisor.pdf'}]\n",
            "* How can I save money on groceries? Create a budget\n",
            "How can I save money on rent? Create a budget\n",
            "How can I save money on utilities? Create a budget\n",
            "How can I save money on entertainment? Create a budget\n",
            "How can I save money on travel? Create a budget\n",
            "How can I save money on groceries? Create a budget\n",
            "How can I save money on rent? Create a budget\n",
            "How can I save money on utilities? Create a budget\n",
            "How can I save money on entertainment? Create a budget\n",
            "How can I save money on travel? Create a budget\n",
            "How can I save money on groceries? Create a budget\n",
            "How can I save money on rent? Create a budget\n",
            "How can I save money on utilities? Create a budget\n",
            "How can I save money on entertainment? Create a budget\n",
            "How can I save money on travel? Create a budget\n",
            "How can I save money on groceries? Create a budget\n",
            "How can I save money on rent? Create a budget\n",
            "How can I save money on utilities? Create a budget\n",
            "How can I save money on entertainment? Create a budget [{'page': 17.0, 'source': '/content/personal_finance_advisor.pdf'}]\n",
            "* How can I save money on groceries? Create a budget\n",
            "How can I save money on rent? Create a budget\n",
            "How can I save money on utilities? Create a budget\n",
            "How can I save money on entertainment? Create a budget\n",
            "How can I save money on travel? Create a budget\n",
            "How can I save money on groceries? Create a budget\n",
            "How can I save money on rent? Create a budget\n",
            "How can I save money on utilities? Create a budget\n",
            "How can I save money on entertainment? Create a budget\n",
            "How can I save money on travel? Create a budget\n",
            "How can I save money on groceries? Create a budget\n",
            "How can I save money on rent? Create a budget\n",
            "How can I save money on utilities? Create a budget\n",
            "How can I save money on entertainment? Create a budget\n",
            "How can I save money on travel? Create a budget\n",
            "How can I save money on groceries? Create a budget\n",
            "How can I save money on rent? Create a budget\n",
            "How can I save money on utilities? Create a budget\n",
            "How can I save money on entertainment? Create a budget [{'page': 2.0, 'source': '/content/personal_finance_advisor.pdf'}]\n",
            "* How can I save money on groceries? Create a budget\n",
            "How can I save money on rent? Create a budget\n",
            "How can I save money on utilities? Create a budget\n",
            "How can I save money on entertainment? Create a budget\n",
            "How can I save money on travel? Create a budget\n",
            "How can I save money on groceries? Create a budget\n",
            "How can I save money on rent? Create a budget\n",
            "How can I save money on utilities? Create a budget\n",
            "How can I save money on entertainment? Create a budget\n",
            "How can I save money on travel? Create a budget\n",
            "How can I save money on groceries? Create a budget\n",
            "How can I save money on rent? Create a budget\n",
            "How can I save money on utilities? Create a budget\n",
            "How can I save money on entertainment? Create a budget\n",
            "How can I save money on travel? Create a budget\n",
            "How can I save money on groceries? Create a budget\n",
            "How can I save money on rent? Create a budget\n",
            "How can I save money on utilities? Create a budget\n",
            "How can I save money on entertainment? Create a budget [{'page': 7.0, 'source': '/content/personal_finance_advisor.pdf'}]\n",
            "* How can I save money on travel? Create a budget\n",
            "How can I save money on groceries? Create a budget\n",
            "How can I save money on rent? Create a budget\n",
            "How can I save money on utilities? Create a budget\n",
            "How can I save money on entertainment? Create a budget\n",
            "How can I save money on travel? Create a budget [{'page': 21.0, 'source': '/content/personal_finance_advisor.pdf'}]\n",
            "* How can I save money on rent? Create a budget\n",
            "How can I save money on utilities? Create a budget\n",
            "How can I save money on entertainment? Create a budget\n",
            "How can I save money on travel? Create a budget\n",
            "How can I save money on groceries? Create a budget\n",
            "How can I save money on rent? Create a budget\n",
            "How can I save money on utilities? Create a budget\n",
            "How can I save money on entertainment? Create a budget\n",
            "How can I save money on travel? Create a budget\n",
            "How can I save money on groceries? Create a budget\n",
            "How can I save money on rent? Create a budget\n",
            "How can I save money on utilities? Create a budget\n",
            "How can I save money on entertainment? Create a budget\n",
            "How can I save money on travel? Create a budget\n",
            "How can I save money on groceries? Create a budget\n",
            "How can I save money on rent? Create a budget\n",
            "How can I save money on utilities? Create a budget\n",
            "How can I save money on entertainment? Create a budget\n",
            "How can I save money on travel? Create a budget [{'page': 3.0, 'source': '/content/personal_finance_advisor.pdf'}]\n",
            "* How can I save money on rent? Create a budget\n",
            "How can I save money on utilities? Create a budget\n",
            "How can I save money on entertainment? Create a budget\n",
            "How can I save money on travel? Create a budget\n",
            "How can I save money on groceries? Create a budget\n",
            "How can I save money on rent? Create a budget\n",
            "How can I save money on utilities? Create a budget\n",
            "How can I save money on entertainment? Create a budget\n",
            "How can I save money on travel? Create a budget\n",
            "How can I save money on groceries? Create a budget\n",
            "How can I save money on rent? Create a budget\n",
            "How can I save money on utilities? Create a budget\n",
            "How can I save money on entertainment? Create a budget\n",
            "How can I save money on travel? Create a budget\n",
            "How can I save money on groceries? Create a budget\n",
            "How can I save money on rent? Create a budget\n",
            "How can I save money on utilities? Create a budget\n",
            "How can I save money on entertainment? Create a budget\n",
            "How can I save money on travel? Create a budget [{'page': 8.0, 'source': '/content/personal_finance_advisor.pdf'}]\n",
            "* How can I save money on rent? Create a budget\n",
            "How can I save money on utilities? Create a budget\n",
            "How can I save money on entertainment? Create a budget\n",
            "How can I save money on travel? Create a budget\n",
            "How can I save money on groceries? Create a budget\n",
            "How can I save money on rent? Create a budget\n",
            "How can I save money on utilities? Create a budget\n",
            "How can I save money on entertainment? Create a budget\n",
            "How can I save money on travel? Create a budget\n",
            "How can I save money on groceries? Create a budget\n",
            "How can I save money on rent? Create a budget\n",
            "How can I save money on utilities? Create a budget\n",
            "How can I save money on entertainment? Create a budget\n",
            "How can I save money on travel? Create a budget\n",
            "How can I save money on groceries? Create a budget\n",
            "How can I save money on rent? Create a budget\n",
            "How can I save money on utilities? Create a budget\n",
            "How can I save money on entertainment? Create a budget\n",
            "How can I save money on travel? Create a budget [{'page': 3.0, 'source': '/content/personal_finance_advisor.pdf'}]\n",
            "* How can I save money on rent? Create a budget\n",
            "How can I save money on utilities? Create a budget\n",
            "How can I save money on entertainment? Create a budget\n",
            "How can I save money on travel? Create a budget\n",
            "How can I save money on groceries? Create a budget\n",
            "How can I save money on rent? Create a budget\n",
            "How can I save money on utilities? Create a budget\n",
            "How can I save money on entertainment? Create a budget\n",
            "How can I save money on travel? Create a budget\n",
            "How can I save money on groceries? Create a budget\n",
            "How can I save money on rent? Create a budget\n",
            "How can I save money on utilities? Create a budget\n",
            "How can I save money on entertainment? Create a budget\n",
            "How can I save money on travel? Create a budget\n",
            "How can I save money on groceries? Create a budget\n",
            "How can I save money on rent? Create a budget\n",
            "How can I save money on utilities? Create a budget\n",
            "How can I save money on entertainment? Create a budget\n",
            "How can I save money on travel? Create a budget [{'page': 2.0, 'source': '/content/personal_finance_advisor.pdf'}]\n"
          ]
        }
      ]
    },
    {
      "cell_type": "code",
      "source": [
        "from langchain_google_genai import ChatGoogleGenerativeAI\n",
        "\n",
        "llm = ChatGoogleGenerativeAI(\n",
        "    model=\"gemini-1.5-flash\"\n",
        ")"
      ],
      "metadata": {
        "id": "9MWjxldAt4RR"
      },
      "execution_count": 36,
      "outputs": []
    },
    {
      "cell_type": "code",
      "source": [
        "from langchain.chains import create_retrieval_chain\n",
        "from langchain.chains.combine_documents import create_stuff_documents_chain\n",
        "from langchain_core.prompts import ChatPromptTemplate\n",
        "\n",
        "system_prompt = (\n",
        "    \"You are an assistant for question-answering tasks.\"\n",
        "    \"Use the followingpieces of retrieved context to answer the question\"\n",
        "    \"If you dont know the answer, say that you don't know. Use three sentences maximum and keep answers consise\"\n",
        "    \"\\n\\n\"\n",
        "    \"{context}\"\n",
        ")\n",
        "\n",
        "prompt = ChatPromptTemplate.from_messages(\n",
        "    [\n",
        "        (\"system\", system_prompt),\n",
        "        (\"human\", \"{input}\"),\n",
        "    ]\n",
        ")\n",
        "\n"
      ],
      "metadata": {
        "id": "uTZ-IScIfzs3"
      },
      "execution_count": 37,
      "outputs": []
    },
    {
      "cell_type": "code",
      "source": [
        "question_answer_chain = create_stuff_documents_chain(llm,prompt)\n",
        "rag_chain= create_retrieval_chain(retriever,question_answer_chain)"
      ],
      "metadata": {
        "id": "ksdwNk2pf2cP"
      },
      "execution_count": 38,
      "outputs": []
    },
    {
      "cell_type": "code",
      "source": [
        "from IPython.display import display,Markdown\n",
        "\n",
        "response = rag_chain.invoke({\"input\":\"Return Policy for product 625\"})\n",
        "print(\"Input:\", response['input'])\n",
        "print(f\"Context: {response['context'][:2]}\")\n",
        "print(\"Answer:\", response['answer'])"
      ],
      "metadata": {
        "colab": {
          "base_uri": "https://localhost:8080/"
        },
        "id": "H7xFpq6Yf3wg",
        "outputId": "b79d1a0f-5eba-4926-833d-117b5108ac71"
      },
      "execution_count": 39,
      "outputs": [
        {
          "output_type": "stream",
          "name": "stdout",
          "text": [
            "Input: Return Policy for product 625\n",
            "Context: [Document(id='ddd9f5e1-6e3b-44db-91c8-73c242fd8296', metadata={'page': 0.0, 'source': '/content/personal_finance_advisor.pdf'}, page_content='Query Advice\\nHow can I save money on groceries? Create a budget\\nHow can I save money on rent? Create a budget\\nHow can I save money on utilities? Create a budget\\nHow can I save money on entertainment? Create a budget\\nHow can I save money on travel? Create a budget\\nHow can I save money on groceries? Create a budget\\nHow can I save money on rent? Create a budget\\nHow can I save money on utilities? Create a budget\\nHow can I save money on entertainment? Create a budget\\nHow can I save money on travel? Create a budget\\nHow can I save money on groceries? Create a budget\\nHow can I save money on rent? Create a budget\\nHow can I save money on utilities? Create a budget\\nHow can I save money on entertainment? Create a budget\\nHow can I save money on travel? Create a budget\\nHow can I save money on groceries? Create a budget\\nHow can I save money on rent? Create a budget\\nHow can I save money on utilities? Create a budget\\nHow can I save money on entertainment? Create a budget'), Document(id='ac144686-f1a8-4da3-ad16-0f90b730a2db', metadata={'page': 21.0, 'source': '/content/personal_finance_advisor.pdf'}, page_content='How can I save money on travel? Create a budget\\nHow can I save money on groceries? Create a budget\\nHow can I save money on rent? Create a budget\\nHow can I save money on utilities? Create a budget\\nHow can I save money on entertainment? Create a budget\\nHow can I save money on travel? Create a budget')]\n",
            "Answer: I do not have access to real-time information, including specific product details like return policies for product number 625.  To find the return policy, you should check the retailer's website where you purchased the product or contact their customer service.\n"
          ]
        }
      ]
    },
    {
      "cell_type": "code",
      "source": [
        "response = rag_chain.invoke({\"input\":\"Return Policy for product 452 and 950\"})\n",
        "print(\"Input:\", response['input'])\n",
        "print(f\"Context: {response['context'][:2]}\")\n",
        "print(\"Answer:\", response['answer'])"
      ],
      "metadata": {
        "colab": {
          "base_uri": "https://localhost:8080/"
        },
        "id": "Ja5EZcAcgGu0",
        "outputId": "0db18e08-f300-44bc-c2e3-5b9cf3a99dfc"
      },
      "execution_count": 40,
      "outputs": [
        {
          "output_type": "stream",
          "name": "stdout",
          "text": [
            "Input: Return Policy for product 452 and 950\n",
            "Context: [Document(id='ddd9f5e1-6e3b-44db-91c8-73c242fd8296', metadata={'page': 0.0, 'source': '/content/personal_finance_advisor.pdf'}, page_content='Query Advice\\nHow can I save money on groceries? Create a budget\\nHow can I save money on rent? Create a budget\\nHow can I save money on utilities? Create a budget\\nHow can I save money on entertainment? Create a budget\\nHow can I save money on travel? Create a budget\\nHow can I save money on groceries? Create a budget\\nHow can I save money on rent? Create a budget\\nHow can I save money on utilities? Create a budget\\nHow can I save money on entertainment? Create a budget\\nHow can I save money on travel? Create a budget\\nHow can I save money on groceries? Create a budget\\nHow can I save money on rent? Create a budget\\nHow can I save money on utilities? Create a budget\\nHow can I save money on entertainment? Create a budget\\nHow can I save money on travel? Create a budget\\nHow can I save money on groceries? Create a budget\\nHow can I save money on rent? Create a budget\\nHow can I save money on utilities? Create a budget\\nHow can I save money on entertainment? Create a budget'), Document(id='c1d4a796-e776-404a-bf2f-99db621818ea', metadata={'page': 2.0, 'source': '/content/personal_finance_advisor.pdf'}, page_content='How can I save money on groceries? Create a budget\\nHow can I save money on rent? Create a budget\\nHow can I save money on utilities? Create a budget\\nHow can I save money on entertainment? Create a budget\\nHow can I save money on travel? Create a budget\\nHow can I save money on groceries? Create a budget\\nHow can I save money on rent? Create a budget\\nHow can I save money on utilities? Create a budget\\nHow can I save money on entertainment? Create a budget\\nHow can I save money on travel? Create a budget\\nHow can I save money on groceries? Create a budget\\nHow can I save money on rent? Create a budget\\nHow can I save money on utilities? Create a budget\\nHow can I save money on entertainment? Create a budget\\nHow can I save money on travel? Create a budget\\nHow can I save money on groceries? Create a budget\\nHow can I save money on rent? Create a budget\\nHow can I save money on utilities? Create a budget\\nHow can I save money on entertainment? Create a budget')]\n",
            "Answer: I do not have access to real-time information, including specific return policies for products with numbers 452 and 950.  To find this information, you will need to check the retailer's website or contact their customer service.\n"
          ]
        }
      ]
    },
    {
      "cell_type": "code",
      "source": [
        "def answer_to_query(query):\n",
        "    vector_results = vector_store.similarity_search(query, k=10)\n",
        "    response = llm.invoke(\n",
        "        f\"Answer this query: {query}\\nHere are some references: {vector_results}\"\n",
        "    )\n",
        "\n",
        "    if hasattr(response, 'content'):\n",
        "        ans = response.content\n",
        "    else:\n",
        "        ans = response\n",
        "\n",
        "    return ans, query, vector_results"
      ],
      "metadata": {
        "id": "f8zTd2NAuNkz"
      },
      "execution_count": 41,
      "outputs": []
    },
    {
      "cell_type": "code",
      "source": [
        "ans, query, content = answer_to_query(\"For Product 652. What is the return policy?\")\n",
        "\n",
        "print(f\"Input : {query}\")\n",
        "print(f\"Content : {content}\")\n",
        "print(f\"Answer : {ans}\")"
      ],
      "metadata": {
        "colab": {
          "base_uri": "https://localhost:8080/"
        },
        "id": "JijM0bPFupmu",
        "outputId": "a526b78b-7a55-446b-cb6c-c0846454e832"
      },
      "execution_count": 42,
      "outputs": [
        {
          "output_type": "stream",
          "name": "stdout",
          "text": [
            "Input : For Product 652. What is the return policy?\n",
            "Content : [Document(id='ddd9f5e1-6e3b-44db-91c8-73c242fd8296', metadata={'page': 0.0, 'source': '/content/personal_finance_advisor.pdf'}, page_content='Query Advice\\nHow can I save money on groceries? Create a budget\\nHow can I save money on rent? Create a budget\\nHow can I save money on utilities? Create a budget\\nHow can I save money on entertainment? Create a budget\\nHow can I save money on travel? Create a budget\\nHow can I save money on groceries? Create a budget\\nHow can I save money on rent? Create a budget\\nHow can I save money on utilities? Create a budget\\nHow can I save money on entertainment? Create a budget\\nHow can I save money on travel? Create a budget\\nHow can I save money on groceries? Create a budget\\nHow can I save money on rent? Create a budget\\nHow can I save money on utilities? Create a budget\\nHow can I save money on entertainment? Create a budget\\nHow can I save money on travel? Create a budget\\nHow can I save money on groceries? Create a budget\\nHow can I save money on rent? Create a budget\\nHow can I save money on utilities? Create a budget\\nHow can I save money on entertainment? Create a budget'), Document(id='ac144686-f1a8-4da3-ad16-0f90b730a2db', metadata={'page': 21.0, 'source': '/content/personal_finance_advisor.pdf'}, page_content='How can I save money on travel? Create a budget\\nHow can I save money on groceries? Create a budget\\nHow can I save money on rent? Create a budget\\nHow can I save money on utilities? Create a budget\\nHow can I save money on entertainment? Create a budget\\nHow can I save money on travel? Create a budget'), Document(id='91db07a9-5939-46d6-8d7e-fed5d59a6cf0', metadata={'page': 12.0, 'source': '/content/personal_finance_advisor.pdf'}, page_content='How can I save money on groceries? Create a budget\\nHow can I save money on rent? Create a budget\\nHow can I save money on utilities? Create a budget\\nHow can I save money on entertainment? Create a budget\\nHow can I save money on travel? Create a budget\\nHow can I save money on groceries? Create a budget\\nHow can I save money on rent? Create a budget\\nHow can I save money on utilities? Create a budget\\nHow can I save money on entertainment? Create a budget\\nHow can I save money on travel? Create a budget\\nHow can I save money on groceries? Create a budget\\nHow can I save money on rent? Create a budget\\nHow can I save money on utilities? Create a budget\\nHow can I save money on entertainment? Create a budget\\nHow can I save money on travel? Create a budget\\nHow can I save money on groceries? Create a budget\\nHow can I save money on rent? Create a budget\\nHow can I save money on utilities? Create a budget\\nHow can I save money on entertainment? Create a budget'), Document(id='60f1d9c0-cd22-49ce-b3d1-79f5fc68d3ec', metadata={'page': 7.0, 'source': '/content/personal_finance_advisor.pdf'}, page_content='How can I save money on groceries? Create a budget\\nHow can I save money on rent? Create a budget\\nHow can I save money on utilities? Create a budget\\nHow can I save money on entertainment? Create a budget\\nHow can I save money on travel? Create a budget\\nHow can I save money on groceries? Create a budget\\nHow can I save money on rent? Create a budget\\nHow can I save money on utilities? Create a budget\\nHow can I save money on entertainment? Create a budget\\nHow can I save money on travel? Create a budget\\nHow can I save money on groceries? Create a budget\\nHow can I save money on rent? Create a budget\\nHow can I save money on utilities? Create a budget\\nHow can I save money on entertainment? Create a budget\\nHow can I save money on travel? Create a budget\\nHow can I save money on groceries? Create a budget\\nHow can I save money on rent? Create a budget\\nHow can I save money on utilities? Create a budget\\nHow can I save money on entertainment? Create a budget'), Document(id='de07204d-9784-4516-91a6-92e44d369a6d', metadata={'page': 17.0, 'source': '/content/personal_finance_advisor.pdf'}, page_content='How can I save money on groceries? Create a budget\\nHow can I save money on rent? Create a budget\\nHow can I save money on utilities? Create a budget\\nHow can I save money on entertainment? Create a budget\\nHow can I save money on travel? Create a budget\\nHow can I save money on groceries? Create a budget\\nHow can I save money on rent? Create a budget\\nHow can I save money on utilities? Create a budget\\nHow can I save money on entertainment? Create a budget\\nHow can I save money on travel? Create a budget\\nHow can I save money on groceries? Create a budget\\nHow can I save money on rent? Create a budget\\nHow can I save money on utilities? Create a budget\\nHow can I save money on entertainment? Create a budget\\nHow can I save money on travel? Create a budget\\nHow can I save money on groceries? Create a budget\\nHow can I save money on rent? Create a budget\\nHow can I save money on utilities? Create a budget\\nHow can I save money on entertainment? Create a budget'), Document(id='c1d4a796-e776-404a-bf2f-99db621818ea', metadata={'page': 2.0, 'source': '/content/personal_finance_advisor.pdf'}, page_content='How can I save money on groceries? Create a budget\\nHow can I save money on rent? Create a budget\\nHow can I save money on utilities? Create a budget\\nHow can I save money on entertainment? Create a budget\\nHow can I save money on travel? Create a budget\\nHow can I save money on groceries? Create a budget\\nHow can I save money on rent? Create a budget\\nHow can I save money on utilities? Create a budget\\nHow can I save money on entertainment? Create a budget\\nHow can I save money on travel? Create a budget\\nHow can I save money on groceries? Create a budget\\nHow can I save money on rent? Create a budget\\nHow can I save money on utilities? Create a budget\\nHow can I save money on entertainment? Create a budget\\nHow can I save money on travel? Create a budget\\nHow can I save money on groceries? Create a budget\\nHow can I save money on rent? Create a budget\\nHow can I save money on utilities? Create a budget\\nHow can I save money on entertainment? Create a budget'), Document(id='eb784cfd-6bac-42c1-a62d-e63fe7dd24bc', metadata={'page': 20.0, 'source': '/content/personal_finance_advisor.pdf'}, page_content='How can I save money on entertainment? Create a budget\\nHow can I save money on travel? Create a budget\\nHow can I save money on groceries? Create a budget\\nHow can I save money on rent? Create a budget\\nHow can I save money on utilities? Create a budget\\nHow can I save money on entertainment? Create a budget\\nHow can I save money on travel? Create a budget\\nHow can I save money on groceries? Create a budget\\nHow can I save money on rent? Create a budget\\nHow can I save money on utilities? Create a budget\\nHow can I save money on entertainment? Create a budget\\nHow can I save money on travel? Create a budget\\nHow can I save money on groceries? Create a budget\\nHow can I save money on rent? Create a budget\\nHow can I save money on utilities? Create a budget\\nHow can I save money on entertainment? Create a budget'), Document(id='bec9abd8-fd0c-4f7b-9295-11544da05176', metadata={'page': 15.0, 'source': '/content/personal_finance_advisor.pdf'}, page_content='How can I save money on entertainment? Create a budget\\nHow can I save money on travel? Create a budget\\nHow can I save money on groceries? Create a budget\\nHow can I save money on rent? Create a budget\\nHow can I save money on utilities? Create a budget\\nHow can I save money on entertainment? Create a budget\\nHow can I save money on travel? Create a budget\\nHow can I save money on groceries? Create a budget\\nHow can I save money on rent? Create a budget\\nHow can I save money on utilities? Create a budget\\nHow can I save money on entertainment? Create a budget\\nHow can I save money on travel? Create a budget\\nHow can I save money on groceries? Create a budget\\nHow can I save money on rent? Create a budget\\nHow can I save money on utilities? Create a budget\\nHow can I save money on entertainment? Create a budget'), Document(id='1aef3e1b-ee8c-4bb1-bc0b-e3cee857e034', metadata={'page': 10.0, 'source': '/content/personal_finance_advisor.pdf'}, page_content='How can I save money on entertainment? Create a budget\\nHow can I save money on travel? Create a budget\\nHow can I save money on groceries? Create a budget\\nHow can I save money on rent? Create a budget\\nHow can I save money on utilities? Create a budget\\nHow can I save money on entertainment? Create a budget\\nHow can I save money on travel? Create a budget\\nHow can I save money on groceries? Create a budget\\nHow can I save money on rent? Create a budget\\nHow can I save money on utilities? Create a budget\\nHow can I save money on entertainment? Create a budget\\nHow can I save money on travel? Create a budget\\nHow can I save money on groceries? Create a budget\\nHow can I save money on rent? Create a budget\\nHow can I save money on utilities? Create a budget\\nHow can I save money on entertainment? Create a budget'), Document(id='12051719-8202-4868-aa85-a836b5edc5f9', metadata={'page': 5.0, 'source': '/content/personal_finance_advisor.pdf'}, page_content='How can I save money on entertainment? Create a budget\\nHow can I save money on travel? Create a budget\\nHow can I save money on groceries? Create a budget\\nHow can I save money on rent? Create a budget\\nHow can I save money on utilities? Create a budget\\nHow can I save money on entertainment? Create a budget\\nHow can I save money on travel? Create a budget\\nHow can I save money on groceries? Create a budget\\nHow can I save money on rent? Create a budget\\nHow can I save money on utilities? Create a budget\\nHow can I save money on entertainment? Create a budget\\nHow can I save money on travel? Create a budget\\nHow can I save money on groceries? Create a budget\\nHow can I save money on rent? Create a budget\\nHow can I save money on utilities? Create a budget\\nHow can I save money on entertainment? Create a budget')]\n",
            "Answer : This question cannot be answered from the given source.  The provided text contains a personal finance advisor document focused on budgeting advice for various expense categories (groceries, rent, utilities, entertainment, and travel).  There is no information about products, product IDs (like \"Product 652\"), or return policies.\n"
          ]
        }
      ]
    },
    {
      "cell_type": "code",
      "source": [],
      "metadata": {
        "id": "47XYHJK5u_Ht"
      },
      "execution_count": 42,
      "outputs": []
    }
  ]
}