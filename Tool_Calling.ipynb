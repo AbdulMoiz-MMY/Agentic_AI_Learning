{
  "nbformat": 4,
  "nbformat_minor": 0,
  "metadata": {
    "colab": {
      "provenance": [],
      "include_colab_link": true
    },
    "kernelspec": {
      "name": "python3",
      "display_name": "Python 3"
    },
    "language_info": {
      "name": "python"
    }
  },
  "cells": [
    {
      "cell_type": "markdown",
      "metadata": {
        "id": "view-in-github",
        "colab_type": "text"
      },
      "source": [
        "<a href=\"https://colab.research.google.com/github/AbdulMoiz-MMY/Agentic_AI_Learning/blob/main/Tool_Calling.ipynb\" target=\"_parent\"><img src=\"https://colab.research.google.com/assets/colab-badge.svg\" alt=\"Open In Colab\"/></a>"
      ]
    },
    {
      "cell_type": "markdown",
      "source": [
        "# Installing langchain_google_genai"
      ],
      "metadata": {
        "id": "fKMBRuJiZ_aJ"
      }
    },
    {
      "cell_type": "code",
      "execution_count": null,
      "metadata": {
        "id": "g8svtpMrSVry",
        "colab": {
          "base_uri": "https://localhost:8080/"
        },
        "outputId": "44187548-c661-4f16-f3f0-d4657b3e2271"
      },
      "outputs": [
        {
          "output_type": "stream",
          "name": "stdout",
          "text": [
            "\u001b[?25l   \u001b[90m━━━━━━━━━━━━━━━━━━━━━━━━━━━━━━━━━━━━━━━━\u001b[0m \u001b[32m0.0/41.5 kB\u001b[0m \u001b[31m?\u001b[0m eta \u001b[36m-:--:--\u001b[0m\r\u001b[2K   \u001b[90m━━━━━━━━━━━━━━━━━━━━━━━━━━━━━━━━━━━━━━━━\u001b[0m \u001b[32m41.5/41.5 kB\u001b[0m \u001b[31m1.4 MB/s\u001b[0m eta \u001b[36m0:00:00\u001b[0m\n",
            "\u001b[?25h"
          ]
        }
      ],
      "source": [
        "!pip install -q -U langchain_google_genai"
      ]
    },
    {
      "cell_type": "markdown",
      "source": [
        "# Importing Neccessary Libraries"
      ],
      "metadata": {
        "id": "KZvYuEEMaFj7"
      }
    },
    {
      "cell_type": "code",
      "source": [
        "from google.colab import userdata\n",
        "from langchain_google_genai import ChatGoogleGenerativeAI"
      ],
      "metadata": {
        "id": "Cl0nxnK9Sdxo"
      },
      "execution_count": null,
      "outputs": []
    },
    {
      "cell_type": "markdown",
      "source": [
        "# Setting Up API Key"
      ],
      "metadata": {
        "id": "Q4Pt7sRPaOEr"
      }
    },
    {
      "cell_type": "code",
      "source": [
        "GOOGLE_APi_KEY : str = userdata.get(\"GOOGLE_API_KEY\")"
      ],
      "metadata": {
        "id": "ya1ecl-ESuo1"
      },
      "execution_count": null,
      "outputs": []
    },
    {
      "cell_type": "markdown",
      "source": [
        "# Initializing Language Model"
      ],
      "metadata": {
        "id": "8xBnab8cacsf"
      }
    },
    {
      "cell_type": "code",
      "source": [
        "llm:ChatGoogleGenerativeAI = ChatGoogleGenerativeAI(api_key=GOOGLE_APi_KEY,model=\"gemini-2.0-flash-exp\")"
      ],
      "metadata": {
        "id": "VoDvT9hhS2cM"
      },
      "execution_count": null,
      "outputs": []
    },
    {
      "cell_type": "markdown",
      "source": [
        "# Invoking the Model"
      ],
      "metadata": {
        "id": "nmCJafodai73"
      }
    },
    {
      "cell_type": "code",
      "source": [
        "llm.invoke(\"Hi\")"
      ],
      "metadata": {
        "colab": {
          "base_uri": "https://localhost:8080/"
        },
        "id": "4T7psjB6S_UB",
        "outputId": "be7f744e-8a73-440f-f146-d461086e3eae"
      },
      "execution_count": null,
      "outputs": [
        {
          "output_type": "execute_result",
          "data": {
            "text/plain": [
              "AIMessage(content='Hi there! How can I help you today?', additional_kwargs={}, response_metadata={'prompt_feedback': {'block_reason': 0, 'safety_ratings': []}, 'finish_reason': 'STOP', 'safety_ratings': [{'category': 'HARM_CATEGORY_HATE_SPEECH', 'probability': 'NEGLIGIBLE', 'blocked': False}, {'category': 'HARM_CATEGORY_DANGEROUS_CONTENT', 'probability': 'NEGLIGIBLE', 'blocked': False}, {'category': 'HARM_CATEGORY_HARASSMENT', 'probability': 'NEGLIGIBLE', 'blocked': False}, {'category': 'HARM_CATEGORY_SEXUALLY_EXPLICIT', 'probability': 'NEGLIGIBLE', 'blocked': False}]}, id='run-0d85500a-0bbc-4fdc-b155-5b959bec472d-0', usage_metadata={'input_tokens': 2, 'output_tokens': 11, 'total_tokens': 13, 'input_token_details': {'cache_read': 0}})"
            ]
          },
          "metadata": {},
          "execution_count": 5
        }
      ]
    },
    {
      "cell_type": "markdown",
      "source": [
        "# Defining Custom Tools"
      ],
      "metadata": {
        "id": "ZrsbFRMoaqQs"
      }
    },
    {
      "cell_type": "code",
      "source": [
        "from langchain_core.tools import tool\n",
        "import random\n",
        "\n",
        "@tool\n",
        "def emoji_translator(text: str) -> str:\n",
        "    \"\"\"Translates words,emotions like 'happy', 'sad', 'dog', 'cat' into emojis from user sentences.\"\"\"\n",
        "    emoji_dict = {\"happy\": \"😊\", \"sad\": \"😢\", \"dog\": \"🐶\", \"cat\": \"🐱\"}\n",
        "    for word, emoji in emoji_dict.items():\n",
        "        text = text.replace(word, emoji)\n",
        "    return text\n",
        "\n",
        "@tool\n",
        "def is_palindrome(text: str) -> bool:\n",
        "    \"\"\"Checks if the given text is a palindrome, ignoring case, spaces, commas, and periods.\"\"\"\n",
        "    text = text.lower().replace(\" \", \"\").replace(\",\", \"\").replace(\".\", \"\")\n",
        "    return text == text[::-1]\n",
        "\n",
        "@tool\n",
        "def random_fact() -> str:\n",
        "    \"\"\"Returns a random fact from a predefined list.\"\"\"\n",
        "    facts = [\"Honey never spoils.\", \"Octopuses have three hearts.\"]\n",
        "    return random.choice(facts)\n",
        "\n",
        "tools = [emoji_translator,is_palindrome,random_fact]"
      ],
      "metadata": {
        "id": "z_9DtVUuTBoJ"
      },
      "execution_count": null,
      "outputs": []
    },
    {
      "cell_type": "markdown",
      "source": [
        "# Binding Tools To the Language Model"
      ],
      "metadata": {
        "id": "v1mE7IOSaydL"
      }
    },
    {
      "cell_type": "code",
      "source": [
        "llm_with_tools = llm.bind_tools(tools)"
      ],
      "metadata": {
        "id": "p_fB6vJ4T9Bt"
      },
      "execution_count": null,
      "outputs": []
    },
    {
      "cell_type": "markdown",
      "source": [
        "# Invoking the model with Tools"
      ],
      "metadata": {
        "id": "REyKdBqla3hb"
      }
    },
    {
      "cell_type": "code",
      "source": [
        "llm_with_tools.invoke(\"Happy\")"
      ],
      "metadata": {
        "colab": {
          "base_uri": "https://localhost:8080/"
        },
        "id": "bdhz8_NqUQaW",
        "outputId": "e3656a44-f636-4289-8a18-9e9de5560991"
      },
      "execution_count": null,
      "outputs": [
        {
          "output_type": "execute_result",
          "data": {
            "text/plain": [
              "AIMessage(content='', additional_kwargs={'function_call': {'name': 'emoji_translator', 'arguments': '{\"text\": \"Happy\"}'}}, response_metadata={'prompt_feedback': {'block_reason': 0, 'safety_ratings': []}, 'finish_reason': 'STOP', 'safety_ratings': [{'category': 'HARM_CATEGORY_HATE_SPEECH', 'probability': 'NEGLIGIBLE', 'blocked': False}, {'category': 'HARM_CATEGORY_DANGEROUS_CONTENT', 'probability': 'NEGLIGIBLE', 'blocked': False}, {'category': 'HARM_CATEGORY_HARASSMENT', 'probability': 'NEGLIGIBLE', 'blocked': False}, {'category': 'HARM_CATEGORY_SEXUALLY_EXPLICIT', 'probability': 'NEGLIGIBLE', 'blocked': False}]}, id='run-d6878b73-276b-476b-bdaa-73ab8ec82739-0', tool_calls=[{'name': 'emoji_translator', 'args': {'text': 'Happy'}, 'id': 'd81c6461-78b2-4b99-85a4-807d3176edb3', 'type': 'tool_call'}], usage_metadata={'input_tokens': 139, 'output_tokens': 5, 'total_tokens': 144, 'input_token_details': {'cache_read': 0}})"
            ]
          },
          "metadata": {},
          "execution_count": 8
        }
      ]
    },
    {
      "cell_type": "markdown",
      "source": [
        "# Query To Use Tool (Part_1)"
      ],
      "metadata": {
        "id": "Q7pJUptaa-Dz"
      }
    },
    {
      "cell_type": "code",
      "source": [
        "from langchain_core.messages import HumanMessage,SystemMessage\n",
        "system_message = SystemMessage(content=\"You are a helpful assistant that uses tools to answer user queries. Always use the appropriate tool when asked.\")\n",
        "query = \"Call the emoji_translator tool to translate the following sentence into emojis: I have a happy dog.\"\n",
        "messages = [system_message,HumanMessage(content=query)]"
      ],
      "metadata": {
        "id": "KAJKCapFScQ5"
      },
      "execution_count": null,
      "outputs": []
    },
    {
      "cell_type": "code",
      "source": [
        "ai_msg = llm_with_tools.invoke(messages)\n",
        "messages.append(ai_msg)"
      ],
      "metadata": {
        "id": "zTVeX-ROShrp"
      },
      "execution_count": null,
      "outputs": []
    },
    {
      "cell_type": "code",
      "source": [
        "ai_msg.tool_calls"
      ],
      "metadata": {
        "colab": {
          "base_uri": "https://localhost:8080/"
        },
        "id": "jGSo_RJ9YC-2",
        "outputId": "a010b97d-4ec5-4e3f-d2b4-8e962d8735a3"
      },
      "execution_count": null,
      "outputs": [
        {
          "output_type": "execute_result",
          "data": {
            "text/plain": [
              "[{'name': 'emoji_translator',\n",
              "  'args': {'text': 'I have a happy dog.'},\n",
              "  'id': 'd7581b3c-3e67-416c-88bf-c131f7272c0a',\n",
              "  'type': 'tool_call'}]"
            ]
          },
          "metadata": {},
          "execution_count": 17
        }
      ]
    },
    {
      "cell_type": "code",
      "source": [
        "print(\"Gemini Response:\", ai_msg)"
      ],
      "metadata": {
        "colab": {
          "base_uri": "https://localhost:8080/"
        },
        "id": "Xd-IaqvWY-LH",
        "outputId": "63397938-35fc-4c06-d8ca-55ad9b309c90"
      },
      "execution_count": null,
      "outputs": [
        {
          "output_type": "stream",
          "name": "stdout",
          "text": [
            "Gemini Response: content='' additional_kwargs={'function_call': {'name': 'emoji_translator', 'arguments': '{\"text\": \"I have a happy dog.\"}'}} response_metadata={'prompt_feedback': {'block_reason': 0, 'safety_ratings': []}, 'finish_reason': 'STOP', 'safety_ratings': [{'category': 'HARM_CATEGORY_HATE_SPEECH', 'probability': 'NEGLIGIBLE', 'blocked': False}, {'category': 'HARM_CATEGORY_DANGEROUS_CONTENT', 'probability': 'NEGLIGIBLE', 'blocked': False}, {'category': 'HARM_CATEGORY_HARASSMENT', 'probability': 'NEGLIGIBLE', 'blocked': False}, {'category': 'HARM_CATEGORY_SEXUALLY_EXPLICIT', 'probability': 'NEGLIGIBLE', 'blocked': False}]} id='run-d7cbc771-2eeb-44e7-9b41-2d27225e3c06-0' tool_calls=[{'name': 'emoji_translator', 'args': {'text': 'I have a happy dog.'}, 'id': 'd7581b3c-3e67-416c-88bf-c131f7272c0a', 'type': 'tool_call'}] usage_metadata={'input_tokens': 179, 'output_tokens': 10, 'total_tokens': 189, 'input_token_details': {'cache_read': 0}}\n"
          ]
        }
      ]
    },
    {
      "cell_type": "code",
      "source": [
        "for tool_call in ai_msg.tool_calls:\n",
        "  selected_tool = {\n",
        "      \"emoji_translator\": emoji_translator,\n",
        "      \"is_palindrome\": is_palindrome,\n",
        "      \"random_fact\": random_fact,\n",
        "  }[tool_call[\"name\"].lower()]\n",
        "  tool_msg = selected_tool.invoke(tool_call)\n",
        "  messages.append(tool_msg)"
      ],
      "metadata": {
        "id": "3BtgGuxWSlK9"
      },
      "execution_count": null,
      "outputs": []
    },
    {
      "cell_type": "code",
      "source": [
        "from IPython.display import Markdown\n",
        "response = llm_with_tools.invoke(messages)\n",
        "display(Markdown(response.content))"
      ],
      "metadata": {
        "colab": {
          "base_uri": "https://localhost:8080/",
          "height": 46
        },
        "id": "m2nUBUVpSnrq",
        "outputId": "915e0147-3cf4-4d8d-e8f6-8de4b65d96b0"
      },
      "execution_count": null,
      "outputs": [
        {
          "output_type": "display_data",
          "data": {
            "text/plain": [
              "<IPython.core.display.Markdown object>"
            ],
            "text/markdown": "I have a 😊 🐶."
          },
          "metadata": {}
        }
      ]
    },
    {
      "cell_type": "markdown",
      "source": [
        "# Query To Use Tool(Part_2)"
      ],
      "metadata": {
        "id": "S_b8HG-8b8Ek"
      }
    },
    {
      "cell_type": "code",
      "source": [
        "from langchain_core.messages import HumanMessage\n",
        "\n",
        "query:str = \"Fact\"\n",
        "messages = [HumanMessage(query)]\n",
        "display(messages)"
      ],
      "metadata": {
        "colab": {
          "base_uri": "https://localhost:8080/",
          "height": 35
        },
        "id": "AHyF8HZjUeTz",
        "outputId": "330c9a20-e4a1-4726-a37e-b27f6bb86eec"
      },
      "execution_count": null,
      "outputs": [
        {
          "output_type": "display_data",
          "data": {
            "text/plain": [
              "[HumanMessage(content='Fact', additional_kwargs={}, response_metadata={})]"
            ]
          },
          "metadata": {}
        }
      ]
    },
    {
      "cell_type": "code",
      "source": [
        "ai_msg = llm_with_tools.invoke(messages)\n",
        "messages.append(ai_msg)\n",
        "display(messages)"
      ],
      "metadata": {
        "colab": {
          "base_uri": "https://localhost:8080/",
          "height": 124
        },
        "id": "O5SkxXaIU_5f",
        "outputId": "d81dc575-2aec-4504-d7d0-0d9a2f1106e0"
      },
      "execution_count": null,
      "outputs": [
        {
          "output_type": "display_data",
          "data": {
            "text/plain": [
              "[HumanMessage(content='Fact', additional_kwargs={}, response_metadata={}),\n",
              " AIMessage(content='', additional_kwargs={'function_call': {'name': 'random_fact', 'arguments': '{}'}}, response_metadata={'prompt_feedback': {'block_reason': 0, 'safety_ratings': []}, 'finish_reason': 'STOP', 'safety_ratings': [{'category': 'HARM_CATEGORY_HATE_SPEECH', 'probability': 'NEGLIGIBLE', 'blocked': False}, {'category': 'HARM_CATEGORY_DANGEROUS_CONTENT', 'probability': 'NEGLIGIBLE', 'blocked': False}, {'category': 'HARM_CATEGORY_HARASSMENT', 'probability': 'NEGLIGIBLE', 'blocked': False}, {'category': 'HARM_CATEGORY_SEXUALLY_EXPLICIT', 'probability': 'NEGLIGIBLE', 'blocked': False}]}, id='run-186df784-a588-4b28-b906-4b379afe016a-0', tool_calls=[{'name': 'random_fact', 'args': {}, 'id': 'ab179736-1e6f-49b4-b294-288aa4a76c9a', 'type': 'tool_call'}], usage_metadata={'input_tokens': 139, 'output_tokens': 3, 'total_tokens': 142, 'input_token_details': {'cache_read': 0}})]"
            ]
          },
          "metadata": {}
        }
      ]
    },
    {
      "cell_type": "code",
      "source": [
        "ai_msg.tool_calls"
      ],
      "metadata": {
        "colab": {
          "base_uri": "https://localhost:8080/"
        },
        "id": "-_AG26nPVaOw",
        "outputId": "94e08ff6-ee87-4e99-9f8c-01c7dbded511"
      },
      "execution_count": null,
      "outputs": [
        {
          "output_type": "execute_result",
          "data": {
            "text/plain": [
              "[{'name': 'random_fact',\n",
              "  'args': {},\n",
              "  'id': 'ab179736-1e6f-49b4-b294-288aa4a76c9a',\n",
              "  'type': 'tool_call'}]"
            ]
          },
          "metadata": {},
          "execution_count": 26
        }
      ]
    },
    {
      "cell_type": "code",
      "source": [
        "for tool_call in ai_msg.tool_calls:\n",
        "  selected_tool={\n",
        "      \"emoji_translator\":emoji_translator,\n",
        "      \"is_palindrome\":is_palindrome,\n",
        "      \"random_fact\":random_fact,\n",
        "  }[tool_call[\"name\"].lower()]\n",
        "  tool_msg = selected_tool.invoke(tool_call)\n",
        "  display(tool_msg)\n",
        "  messages.append(tool_msg)"
      ],
      "metadata": {
        "id": "v6H1945SVf_F",
        "colab": {
          "base_uri": "https://localhost:8080/",
          "height": 35
        },
        "outputId": "535b3d68-6300-4672-901f-1a434c90a824"
      },
      "execution_count": null,
      "outputs": [
        {
          "output_type": "display_data",
          "data": {
            "text/plain": [
              "ToolMessage(content='Octopuses have three hearts.', name='random_fact', tool_call_id='ab179736-1e6f-49b4-b294-288aa4a76c9a')"
            ]
          },
          "metadata": {}
        }
      ]
    },
    {
      "cell_type": "code",
      "source": [
        "messages"
      ],
      "metadata": {
        "id": "aGYqlKUrWB0v",
        "colab": {
          "base_uri": "https://localhost:8080/"
        },
        "outputId": "8792b9a9-7e08-4883-e8de-9873335eec4b"
      },
      "execution_count": null,
      "outputs": [
        {
          "output_type": "execute_result",
          "data": {
            "text/plain": [
              "[HumanMessage(content='Fact', additional_kwargs={}, response_metadata={}),\n",
              " AIMessage(content='', additional_kwargs={'function_call': {'name': 'random_fact', 'arguments': '{}'}}, response_metadata={'prompt_feedback': {'block_reason': 0, 'safety_ratings': []}, 'finish_reason': 'STOP', 'safety_ratings': [{'category': 'HARM_CATEGORY_HATE_SPEECH', 'probability': 'NEGLIGIBLE', 'blocked': False}, {'category': 'HARM_CATEGORY_DANGEROUS_CONTENT', 'probability': 'NEGLIGIBLE', 'blocked': False}, {'category': 'HARM_CATEGORY_HARASSMENT', 'probability': 'NEGLIGIBLE', 'blocked': False}, {'category': 'HARM_CATEGORY_SEXUALLY_EXPLICIT', 'probability': 'NEGLIGIBLE', 'blocked': False}]}, id='run-186df784-a588-4b28-b906-4b379afe016a-0', tool_calls=[{'name': 'random_fact', 'args': {}, 'id': 'ab179736-1e6f-49b4-b294-288aa4a76c9a', 'type': 'tool_call'}], usage_metadata={'input_tokens': 139, 'output_tokens': 3, 'total_tokens': 142, 'input_token_details': {'cache_read': 0}}),\n",
              " ToolMessage(content='Octopuses have three hearts.', name='random_fact', tool_call_id='ab179736-1e6f-49b4-b294-288aa4a76c9a')]"
            ]
          },
          "metadata": {},
          "execution_count": 28
        }
      ]
    },
    {
      "cell_type": "code",
      "source": [
        "response = llm_with_tools.invoke(messages)"
      ],
      "metadata": {
        "id": "1FfS8IYOM2By"
      },
      "execution_count": null,
      "outputs": []
    },
    {
      "cell_type": "code",
      "source": [
        "from IPython.display import Markdown\n",
        "display(Markdown(response.content))"
      ],
      "metadata": {
        "colab": {
          "base_uri": "https://localhost:8080/",
          "height": 46
        },
        "id": "jR47pJRxM6Jc",
        "outputId": "2ea1a698-07fb-4e46-ec8d-eda84b8dd7f4"
      },
      "execution_count": null,
      "outputs": [
        {
          "output_type": "display_data",
          "data": {
            "text/plain": [
              "<IPython.core.display.Markdown object>"
            ],
            "text/markdown": "Octopuses have three hearts."
          },
          "metadata": {}
        }
      ]
    }
  ]
}